{
 "cells": [
  {
   "cell_type": "code",
   "execution_count": 27,
   "metadata": {},
   "outputs": [],
   "source": [
    "import numpy as np\n",
    "import sys\n",
    "import pathlib\n",
    "from os.path import join\n",
    "path_to_file = str(pathlib.Path().resolve())\n",
    "dir_path = join(path_to_file)\n",
    "\n",
    "sys.path.append(join(dir_path, \"HelperFiles\"))\n",
    "from helper import *\n",
    "from rankshap import *\n",
    "from train_models import *\n",
    "from load_data import *\n",
    "\n",
    "from os.path import join\n",
    "data_path = join(dir_path, \"Experiments\", \"Data\")\n",
    "\n",
    "import warnings\n",
    "warnings.filterwarnings('ignore')"
   ]
  },
  {
   "cell_type": "markdown",
   "metadata": {},
   "source": [
    "## Load dataset and train model\n",
    "\n",
    "Git repo has built-in \"bank\", \"brca\", \"census\" (AKA adult), and \"credit\" datasets, and train_logreg() or train_neural_net() functions."
   ]
  },
  {
   "cell_type": "code",
   "execution_count": 44,
   "metadata": {},
   "outputs": [
    {
     "name": "stdout",
     "output_type": "stream",
     "text": [
      "Class imbalance: 55%\n",
      "NN 80% accuracy\n"
     ]
    },
    {
     "data": {
      "text/plain": [
       "20"
      ]
     },
     "execution_count": 44,
     "metadata": {},
     "output_type": "execute_result"
    }
   ],
   "source": [
    "dataset = \"brca\" \n",
    "# X_train, y_train, X_test, y_test, mapping_dict = make_data(data_path, dataset)\n",
    "# save_data(data_path, dataset, X_train, y_train, X_test, y_test, mapping_dict)\n",
    "X_train, y_train, X_test, y_test, mapping_dict = load_data(data_path, dataset)\n",
    "\n",
    "model = train_logreg(X_train, y_train)\n",
    "\n",
    "print(\"Class imbalance: {}%\".format(round(100*(max(np.mean(y_test), 1-np.mean(y_test))))))\n",
    "Y_preds = (model(X_test) > 0.5).astype(\"int\")\n",
    "print(\"NN {}% accuracy\".format(round(np.mean(Y_preds == y_test)*100)))\n",
    "d = len(mapping_dict) if mapping_dict is not None else X_train.shape[1]\n",
    "d"
   ]
  },
  {
   "cell_type": "markdown",
   "metadata": {},
   "source": [
    "## Preliminary run of Shapley sampling\n",
    "\n",
    "Not infrequently, expected number of samples to be significant exceeds max number of perms; sampling it, though, it's significant. This suggests our distribution is too conservative. Maybe we can remove the factor of 2."
   ]
  },
  {
   "cell_type": "code",
   "execution_count": 47,
   "metadata": {},
   "outputs": [
    {
     "name": "stdout",
     "output_type": "stream",
     "text": [
      "Converged: True\n",
      "Feature Ranking: [ 9  4  5  8 14 19  6 18 16 12 15  3  0 13  1 17  2 11 10  7]\n",
      "Number of perms per feature: [100, 100, 100, 100, 4459, 100, 100, 100, 100, 4459, 100, 100, 100, 100, 100, 100, 100, 100, 100, 100]\n"
     ]
    }
   ],
   "source": [
    "np.random.seed(1)\n",
    "xloc = X_test[0:1]\n",
    "# Defaults: n_samples_per_perm=2, n_init=100, max_n_perms=10000, n_equal=True, buffer=1.1, abs=True\n",
    "shap_vals, diffs, converged = rankshap(model, X_train, xloc, K=2, alpha=0.2, mapping_dict=mapping_dict)\n",
    "\n",
    "print(\"Converged: {}\".format(converged))\n",
    "ranking = get_ranking(shap_vals, abs=True)\n",
    "print(\"Feature Ranking: {}\".format(ranking))\n",
    "n_perms_per_feature = [len(diffs[j]) for j in range(d)]\n",
    "print(\"Number of perms per feature: {}\".format(n_perms_per_feature))\n"
   ]
  },
  {
   "cell_type": "markdown",
   "metadata": {},
   "source": [
    "# Simulate Experimental FWER"
   ]
  },
  {
   "cell_type": "code",
   "execution_count": 42,
   "metadata": {},
   "outputs": [
    {
     "name": "stdout",
     "output_type": "stream",
     "text": [
      "5 0.0\n",
      "10 0.0\n",
      "15 0.0\n",
      "20 0.0\n",
      "25 0.0\n",
      "30 0.0\n",
      "35 0.0\n",
      "40 0.0\n",
      "45 0.0\n",
      "50 0.0\n"
     ]
    }
   ],
   "source": [
    "xloc = X_test[0:1]\n",
    "N_runs = 50\n",
    "K = 2\n",
    "shap_vals_all = []\n",
    "top_K = []\n",
    "while len(top_K) < N_runs:\n",
    "    shap_vals, diffs, converged = rankshap(model, X_train, xloc, K=2, alpha=0.2, mapping_dict=mapping_dict)\n",
    "    if converged:\n",
    "        est_top_K = get_ranking(shap_vals, abs=True)[:K]\n",
    "        top_K.append(est_top_K)\n",
    "        shap_vals_all.append(shap_vals)\n",
    "        if len(top_K) % 5 == 0: print(len(top_K), calc_fwer(top_K))\n",
    "    else:\n",
    "        print(\"Failed to converge\")"
   ]
  },
  {
   "cell_type": "code",
   "execution_count": 43,
   "metadata": {},
   "outputs": [
    {
     "name": "stdout",
     "output_type": "stream",
     "text": [
      "0.0\n"
     ]
    }
   ],
   "source": [
    "print(calc_fwer(top_K))"
   ]
  }
 ],
 "metadata": {
  "interpreter": {
   "hash": "768407c71a286f507fab4bce553d71b5cbd766c247b76eb598ef769225202bc3"
  },
  "kernelspec": {
   "display_name": "Python 3.9.16 ('shap')",
   "language": "python",
   "name": "python3"
  },
  "language_info": {
   "codemirror_mode": {
    "name": "ipython",
    "version": 3
   },
   "file_extension": ".py",
   "mimetype": "text/x-python",
   "name": "python",
   "nbconvert_exporter": "python",
   "pygments_lexer": "ipython3",
   "version": "3.9.16"
  },
  "orig_nbformat": 4
 },
 "nbformat": 4,
 "nbformat_minor": 2
}
