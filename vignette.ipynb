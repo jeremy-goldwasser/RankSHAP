{
 "cells": [
  {
   "cell_type": "code",
   "execution_count": 1,
   "metadata": {},
   "outputs": [
    {
     "name": "stderr",
     "output_type": "stream",
     "text": [
      "/Users/jeremygoldwasser/opt/anaconda3/envs/shap/lib/python3.9/site-packages/tqdm/auto.py:21: TqdmWarning: IProgress not found. Please update jupyter and ipywidgets. See https://ipywidgets.readthedocs.io/en/stable/user_install.html\n",
      "  from .autonotebook import tqdm as notebook_tqdm\n"
     ]
    }
   ],
   "source": [
    "import numpy as np\n",
    "import sys\n",
    "import pathlib\n",
    "from os.path import join\n",
    "path_to_file = str(pathlib.Path().resolve())\n",
    "dir_path = join(path_to_file)\n",
    "\n",
    "sys.path.append(join(dir_path, \"HelperFiles\"))\n",
    "from helper import *\n",
    "from rankshap import *\n",
    "from train_models import *\n",
    "from load_data import *\n",
    "\n",
    "from os.path import join\n",
    "data_path = join(dir_path, \"Experiments\", \"Data\")\n",
    "\n",
    "import warnings\n",
    "warnings.filterwarnings('ignore')"
   ]
  },
  {
   "cell_type": "markdown",
   "metadata": {},
   "source": [
    "## Load dataset and train model"
   ]
  },
  {
   "cell_type": "code",
   "execution_count": 2,
   "metadata": {},
   "outputs": [
    {
     "name": "stdout",
     "output_type": "stream",
     "text": [
      "Class imbalance: 75%\n",
      "NN 84% accuracy\n"
     ]
    }
   ],
   "source": [
    "dataset = \"census\"\n",
    "# X_train, y_train, X_test, y_test, mapping_dict = make_data(data_path, dataset)\n",
    "# save_data(data_path, dataset, X_train, y_train, X_test, y_test, mapping_dict)\n",
    "X_train, y_train, X_test, y_test, mapping_dict = load_data(data_path, dataset)\n",
    "\n",
    "# model = train_neural_net(X_train, y_train)\n",
    "model = train_logreg(X_train, y_train)\n",
    "\n",
    "print(\"Class imbalance: {}%\".format(round(100*(max(np.mean(y_test), 1-np.mean(y_test))))))\n",
    "Y_preds = (model(X_test) > 0.5).astype(\"int\")\n",
    "print(\"NN {}% accuracy\".format(round(np.mean(Y_preds == y_test)*100)))\n",
    "\n"
   ]
  },
  {
   "cell_type": "markdown",
   "metadata": {},
   "source": [
    "## Preliminary run of Shapley sampling\n",
    "\n",
    "Not infrequently, expected number of samples to be significant exceeds max number of perms; sampling it, though, it's significant. This suggests our distribution is too conservative. Maybe we can remove the factor of 2."
   ]
  },
  {
   "cell_type": "code",
   "execution_count": 11,
   "metadata": {},
   "outputs": [
    {
     "name": "stdout",
     "output_type": "stream",
     "text": [
      "[ 3  2  4  8  7  5  0  1  9 10 11  6]\n"
     ]
    }
   ],
   "source": [
    "np.random.seed(1)\n",
    "xloc = X_test[0:1]\n",
    "shap_vals, diffs_all_feats = rankshap(model, X_train, xloc, K=2, alpha=0.2, mapping_dict=mapping_dict, abs=True)\n",
    "print(get_ordering(shap_vals, abs=True))\n",
    "\n"
   ]
  },
  {
   "cell_type": "markdown",
   "metadata": {},
   "source": [
    "# Simulate Experimental FWER"
   ]
  },
  {
   "cell_type": "code",
   "execution_count": 15,
   "metadata": {},
   "outputs": [
    {
     "name": "stdout",
     "output_type": "stream",
     "text": [
      "Hit max # perms without converging. Returning `NA`.\n",
      "Hit max # perms without converging. Returning `NA`.\n",
      "Hit max # perms without converging. Returning `NA`.\n",
      "Hit max # perms without converging. Returning `NA`.\n"
     ]
    },
    {
     "ename": "KeyboardInterrupt",
     "evalue": "",
     "output_type": "error",
     "traceback": [
      "\u001b[0;31m---------------------------------------------------------------------------\u001b[0m",
      "\u001b[0;31mKeyboardInterrupt\u001b[0m                         Traceback (most recent call last)",
      "Cell \u001b[0;32mIn[15], line 7\u001b[0m\n\u001b[1;32m      5\u001b[0m top_K \u001b[38;5;241m=\u001b[39m []\n\u001b[1;32m      6\u001b[0m \u001b[38;5;28;01mwhile\u001b[39;00m \u001b[38;5;28mlen\u001b[39m(top_K) \u001b[38;5;241m<\u001b[39m N_runs:\n\u001b[0;32m----> 7\u001b[0m     shap_vals, _ \u001b[38;5;241m=\u001b[39m \u001b[43mrankshap\u001b[49m\u001b[43m(\u001b[49m\u001b[43mmodel\u001b[49m\u001b[43m,\u001b[49m\u001b[43m \u001b[49m\u001b[43mX_train\u001b[49m\u001b[43m,\u001b[49m\u001b[43m \u001b[49m\u001b[43mxloc\u001b[49m\u001b[43m,\u001b[49m\u001b[43m \u001b[49m\u001b[43mK\u001b[49m\u001b[38;5;241;43m=\u001b[39;49m\u001b[38;5;241;43m3\u001b[39;49m\u001b[43m,\u001b[49m\u001b[43m \u001b[49m\u001b[43malpha\u001b[49m\u001b[38;5;241;43m=\u001b[39;49m\u001b[38;5;241;43m0.2\u001b[39;49m\u001b[43m,\u001b[49m\u001b[43m \u001b[49m\u001b[43mmax_n_perms\u001b[49m\u001b[38;5;241;43m=\u001b[39;49m\u001b[38;5;241;43m10000\u001b[39;49m\u001b[43m,\u001b[49m\u001b[43m \u001b[49m\u001b[43mmapping_dict\u001b[49m\u001b[38;5;241;43m=\u001b[39;49m\u001b[43mmapping_dict\u001b[49m\u001b[43m,\u001b[49m\u001b[43m \u001b[49m\u001b[38;5;28;43mabs\u001b[39;49m\u001b[38;5;241;43m=\u001b[39;49m\u001b[38;5;28;43;01mTrue\u001b[39;49;00m\u001b[43m)\u001b[49m\n\u001b[1;32m      8\u001b[0m     \u001b[38;5;28;01mif\u001b[39;00m \u001b[38;5;28misinstance\u001b[39m(shap_vals, np\u001b[38;5;241m.\u001b[39mndarray):\n\u001b[1;32m      9\u001b[0m         \u001b[38;5;66;03m#### Compute empirical FWER #####\u001b[39;00m\n\u001b[1;32m     10\u001b[0m         est_top_K \u001b[38;5;241m=\u001b[39m get_ordering(shap_vals, \u001b[38;5;28mabs\u001b[39m\u001b[38;5;241m=\u001b[39m\u001b[38;5;28;01mTrue\u001b[39;00m)[:K]\n",
      "File \u001b[0;32m~/Desktop/RankSHAP/HelperFiles/rankshap.py:133\u001b[0m, in \u001b[0;36mrankshap\u001b[0;34m(model, X, xloc, K, mapping_dict, alpha, n_samples_per_perm, n_init, buffer, max_n_perms, n_equal, abs)\u001b[0m\n\u001b[1;32m    <a href='file:///Users/jeremygoldwasser/Desktop/RankSHAP/HelperFiles/rankshap.py?line=127'>128</a>\u001b[0m \u001b[39mdef\u001b[39;00m \u001b[39mrankshap\u001b[39m(model, X, xloc, K, \n\u001b[1;32m    <a href='file:///Users/jeremygoldwasser/Desktop/RankSHAP/HelperFiles/rankshap.py?line=128'>129</a>\u001b[0m                             mapping_dict\u001b[39m=\u001b[39m\u001b[39mNone\u001b[39;00m, alpha\u001b[39m=\u001b[39m\u001b[39m0.05\u001b[39m, \n\u001b[1;32m    <a href='file:///Users/jeremygoldwasser/Desktop/RankSHAP/HelperFiles/rankshap.py?line=129'>130</a>\u001b[0m                             n_samples_per_perm\u001b[39m=\u001b[39m\u001b[39m2\u001b[39m, n_init\u001b[39m=\u001b[39m\u001b[39m100\u001b[39m, \n\u001b[1;32m    <a href='file:///Users/jeremygoldwasser/Desktop/RankSHAP/HelperFiles/rankshap.py?line=130'>131</a>\u001b[0m                             buffer\u001b[39m=\u001b[39m\u001b[39m1.1\u001b[39m, max_n_perms\u001b[39m=\u001b[39m\u001b[39m10000\u001b[39m, \n\u001b[1;32m    <a href='file:///Users/jeremygoldwasser/Desktop/RankSHAP/HelperFiles/rankshap.py?line=131'>132</a>\u001b[0m                             n_equal\u001b[39m=\u001b[39m\u001b[39mTrue\u001b[39;00m, \u001b[39mabs\u001b[39m\u001b[39m=\u001b[39m\u001b[39mTrue\u001b[39;00m):\n\u001b[0;32m--> <a href='file:///Users/jeremygoldwasser/Desktop/RankSHAP/HelperFiles/rankshap.py?line=132'>133</a>\u001b[0m     diffs_all_feats \u001b[39m=\u001b[39m compute_diffs_all_feats(model, X, xloc, n_init, \n\u001b[1;32m    <a href='file:///Users/jeremygoldwasser/Desktop/RankSHAP/HelperFiles/rankshap.py?line=133'>134</a>\u001b[0m                                             mapping_dict\u001b[39m=\u001b[39;49mmapping_dict, \n\u001b[1;32m    <a href='file:///Users/jeremygoldwasser/Desktop/RankSHAP/HelperFiles/rankshap.py?line=134'>135</a>\u001b[0m                                             n_samples_per_perm\u001b[39m=\u001b[39;49mn_samples_per_perm)\n\u001b[1;32m    <a href='file:///Users/jeremygoldwasser/Desktop/RankSHAP/HelperFiles/rankshap.py?line=135'>136</a>\u001b[0m     d \u001b[39m=\u001b[39m \u001b[39mlen\u001b[39m(mapping_dict) \u001b[39mif\u001b[39;00m mapping_dict \u001b[39mis\u001b[39;00m \u001b[39mnot\u001b[39;00m \u001b[39mNone\u001b[39;00m \u001b[39melse\u001b[39;00m X\u001b[39m.\u001b[39mshape[\u001b[39m1\u001b[39m]\n\u001b[1;32m    <a href='file:///Users/jeremygoldwasser/Desktop/RankSHAP/HelperFiles/rankshap.py?line=137'>138</a>\u001b[0m     \u001b[39mwhile\u001b[39;00m \u001b[39mnot\u001b[39;00m do_all_tests_pass(diffs_all_feats, K, alpha\u001b[39m=\u001b[39malpha, n_equal\u001b[39m=\u001b[39mn_equal):\n",
      "File \u001b[0;32m~/Desktop/RankSHAP/HelperFiles/rankshap.py:116\u001b[0m, in \u001b[0;36mcompute_diffs_all_feats\u001b[0;34m(model, X, xloc, M, mapping_dict, n_samples_per_perm)\u001b[0m\n\u001b[1;32m    <a href='file:///Users/jeremygoldwasser/Desktop/RankSHAP/HelperFiles/rankshap.py?line=112'>113</a>\u001b[0m j_idx \u001b[39m=\u001b[39m np\u001b[39m.\u001b[39margwhere(perm\u001b[39m==\u001b[39mj)\u001b[39m.\u001b[39mitem()\n\u001b[1;32m    <a href='file:///Users/jeremygoldwasser/Desktop/RankSHAP/HelperFiles/rankshap.py?line=113'>114</a>\u001b[0m S \u001b[39m=\u001b[39m np\u001b[39m.\u001b[39marray(perm[:j_idx])\n\u001b[0;32m--> <a href='file:///Users/jeremygoldwasser/Desktop/RankSHAP/HelperFiles/rankshap.py?line=115'>116</a>\u001b[0m tw_vals, twj_vals \u001b[39m=\u001b[39m query_values_marginal(X, xloc, S, j, mapping_dict, n_samples_per_perm)\n\u001b[1;32m    <a href='file:///Users/jeremygoldwasser/Desktop/RankSHAP/HelperFiles/rankshap.py?line=116'>117</a>\u001b[0m w_vals\u001b[39m.\u001b[39mappend(tw_vals)\n\u001b[1;32m    <a href='file:///Users/jeremygoldwasser/Desktop/RankSHAP/HelperFiles/rankshap.py?line=117'>118</a>\u001b[0m wj_vals\u001b[39m.\u001b[39mappend(twj_vals)\n",
      "File \u001b[0;32m~/Desktop/RankSHAP/HelperFiles/rankshap.py:98\u001b[0m, in \u001b[0;36mquery_values_marginal\u001b[0;34m(X, xloc, S, j, mapping_dict, n_samples_per_perm)\u001b[0m\n\u001b[1;32m     <a href='file:///Users/jeremygoldwasser/Desktop/RankSHAP/HelperFiles/rankshap.py?line=95'>96</a>\u001b[0m z \u001b[39m=\u001b[39m X[np\u001b[39m.\u001b[39mrandom\u001b[39m.\u001b[39mchoice(n, size\u001b[39m=\u001b[39m\u001b[39m1\u001b[39m),:]\n\u001b[1;32m     <a href='file:///Users/jeremygoldwasser/Desktop/RankSHAP/HelperFiles/rankshap.py?line=96'>97</a>\u001b[0m w_x_s, w_x_s_j \u001b[39m=\u001b[39m np\u001b[39m.\u001b[39mcopy(xloc), np\u001b[39m.\u001b[39mcopy(xloc)\n\u001b[0;32m---> <a href='file:///Users/jeremygoldwasser/Desktop/RankSHAP/HelperFiles/rankshap.py?line=97'>98</a>\u001b[0m w_x_s[\u001b[39m0\u001b[39m][Sc] \u001b[39m=\u001b[39m z[\u001b[39m0\u001b[39;49m][Sc]\n\u001b[1;32m     <a href='file:///Users/jeremygoldwasser/Desktop/RankSHAP/HelperFiles/rankshap.py?line=98'>99</a>\u001b[0m w_x_s_j[\u001b[39m0\u001b[39m][Sjc] \u001b[39m=\u001b[39m z[\u001b[39m0\u001b[39m][Sjc]\n\u001b[1;32m    <a href='file:///Users/jeremygoldwasser/Desktop/RankSHAP/HelperFiles/rankshap.py?line=100'>101</a>\u001b[0m w_vals\u001b[39m.\u001b[39mappend(w_x_s)\n",
      "\u001b[0;31mKeyboardInterrupt\u001b[0m: "
     ]
    }
   ],
   "source": [
    "# xloc = X_test[7:8]\n",
    "N_runs = 50\n",
    "K = 2\n",
    "shap_vals_all = []\n",
    "top_K = []\n",
    "while len(top_K) < N_runs:\n",
    "    shap_vals, diffs_all_feats, converged = rankshap(model, X_train, xloc, K=3, alpha=0.2, max_n_perms=10000, mapping_dict=mapping_dict, abs=True)\n",
    "    if converged:\n",
    "        est_top_K = get_ordering(shap_vals, abs=True)[:K]\n",
    "        top_K.append(est_top_K)\n",
    "        shap_vals_all.append(shap_vals)\n",
    "        if len(top_K) % 5 == 0: print(calc_fwer(top_K))"
   ]
  },
  {
   "cell_type": "code",
   "execution_count": null,
   "metadata": {},
   "outputs": [],
   "source": []
  },
  {
   "cell_type": "code",
   "execution_count": 16,
   "metadata": {},
   "outputs": [
    {
     "data": {
      "text/plain": [
       "[]"
      ]
     },
     "execution_count": 16,
     "metadata": {},
     "output_type": "execute_result"
    }
   ],
   "source": []
  },
  {
   "cell_type": "code",
   "execution_count": null,
   "metadata": {},
   "outputs": [],
   "source": []
  }
 ],
 "metadata": {
  "interpreter": {
   "hash": "768407c71a286f507fab4bce553d71b5cbd766c247b76eb598ef769225202bc3"
  },
  "kernelspec": {
   "display_name": "Python 3.9.16 ('shap')",
   "language": "python",
   "name": "python3"
  },
  "language_info": {
   "codemirror_mode": {
    "name": "ipython",
    "version": 3
   },
   "file_extension": ".py",
   "mimetype": "text/x-python",
   "name": "python",
   "nbconvert_exporter": "python",
   "pygments_lexer": "ipython3",
   "version": "3.9.16"
  },
  "orig_nbformat": 4
 },
 "nbformat": 4,
 "nbformat_minor": 2
}
