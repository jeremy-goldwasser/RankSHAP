{
 "cells": [
  {
   "cell_type": "code",
   "execution_count": 2,
   "metadata": {},
   "outputs": [
    {
     "name": "stderr",
     "output_type": "stream",
     "text": [
      "/Users/jeremygoldwasser/opt/anaconda3/envs/shap/lib/python3.9/site-packages/tqdm/auto.py:21: TqdmWarning: IProgress not found. Please update jupyter and ipywidgets. See https://ipywidgets.readthedocs.io/en/stable/user_install.html\n",
      "  from .autonotebook import tqdm as notebook_tqdm\n"
     ]
    }
   ],
   "source": [
    "import numpy as np\n",
    "import sys\n",
    "from os.path import join\n",
    "\n",
    "dir_path = \"/Users/jeremygoldwasser/Desktop/RankSHAP\"\n",
    "data_path = join(dir_path, \"Experiments\", \"Data\")\n",
    "sys.path.append(join(dir_path, \"HelperFiles\"))\n",
    "from helper import *\n",
    "from shapley_sampling2 import *\n",
    "from train_models import *\n",
    "from load_data import *\n",
    "\n",
    "import warnings\n",
    "warnings.filterwarnings('ignore')\n",
    "\n"
   ]
  },
  {
   "cell_type": "markdown",
   "metadata": {},
   "source": [
    "## Load dataset and train model"
   ]
  },
  {
   "cell_type": "code",
   "execution_count": 3,
   "metadata": {},
   "outputs": [],
   "source": [
    "dataset = \"census\"\n",
    "# X_train, y_train, X_test, y_test, mapping_dict = make_data(data_path, dataset)\n",
    "# save_data(data_path, dataset, X_train, y_train, X_test, y_test, mapping_dict)\n",
    "X_train, y_train, X_test, y_test, mapping_dict = load_data(data_path, dataset)\n",
    "xloc = X_test[1:2]"
   ]
  },
  {
   "cell_type": "code",
   "execution_count": null,
   "metadata": {},
   "outputs": [],
   "source": []
  },
  {
   "cell_type": "code",
   "execution_count": 3,
   "metadata": {},
   "outputs": [
    {
     "name": "stdout",
     "output_type": "stream",
     "text": [
      "Class imbalance: 75%\n",
      "NN 82% accuracy\n"
     ]
    }
   ],
   "source": [
    "model = train_neural_net(X_train, y_train)\n",
    "\n",
    "print(\"Class imbalance: {}%\".format(round(100*(max(np.mean(y_test), 1-np.mean(y_test))))))\n",
    "Y_preds = (model(X_test) > 0.5).astype(\"int\")\n",
    "print(\"NN {}% accuracy\".format(round(np.mean(Y_preds == y_test)*100)))"
   ]
  },
  {
   "cell_type": "markdown",
   "metadata": {},
   "source": [
    "## Preliminary run of Shapley sampling\n",
    "\n",
    "Not infrequently, expected number of samples to be significant exceeds max number of perms; sampling it, though, it's significant. This suggests our distribution is too conservative. Maybe we can remove the factor of 2."
   ]
  },
  {
   "cell_type": "code",
   "execution_count": 4,
   "metadata": {},
   "outputs": [],
   "source": [
    "# %run shapley_sampling2\n",
    "np.random.seed(6)\n",
    "\n",
    "shap_vals, diffs_all_feats = shapley_sampling_adaptive(model, X_train, xloc, K=2, alpha=0.2, mapping_dict=mapping_dict, max_n_perms=10000)"
   ]
  },
  {
   "cell_type": "code",
   "execution_count": 5,
   "metadata": {},
   "outputs": [
    {
     "name": "stdout",
     "output_type": "stream",
     "text": [
      "0.4424208630654952 0.53665346\n",
      "[0.24634868 0.10867932 0.08058421 0.0669929  0.04353731 0.03680945\n",
      " 0.03307947 0.02164673 0.02095484 0.01365652 0.0108488  0.00482027]\n"
     ]
    }
   ],
   "source": [
    "print(np.sum(shap_vals), model(xloc) - np.mean(model(X_train)))\n",
    "\n",
    "print(np.sort(np.abs(shap_vals))[::-1])"
   ]
  },
  {
   "cell_type": "markdown",
   "metadata": {},
   "source": [
    "# Simulate Experimental FWER\n",
    "\n",
    "## Model itself\n",
    "\n",
    "Recommended number of samples often exceeds max # perms by a LOT, but then running the max # usually works. Makes me question whether the boundary is valid.\n",
    "\n",
    "Using n_init=30 makes FWER more interesting, so that's what we show. Often n_init=50 makes the FWER 0. \n",
    "\n",
    "Still not sure one way or the other whether we need the factor of 2. Without, it's the Welch's t-test statistic. All these results are with the factor of 2.\n",
    "\n",
    "results in 11/9 table"
   ]
  },
  {
   "cell_type": "code",
   "execution_count": 19,
   "metadata": {},
   "outputs": [
    {
     "name": "stdout",
     "output_type": "stream",
     "text": [
      "1\n",
      "2\n",
      "3\n",
      "Hit max # perms without converging. Returning `NA`.\n",
      "4\n"
     ]
    }
   ],
   "source": [
    "# %run shapley_sampling2\n",
    "# np.random.seed(2) # Unusual\n",
    "K = 5\n",
    "top_K = []\n",
    "for i in range(5):\n",
    "    # print(i)\n",
    "    shap_vals2, diffs_all_feats2 = shapley_sampling_adaptive(model, X_train, xloc, K=K, alpha=0.2, \n",
    "                            mapping_dict=mapping_dict, max_n_perms=10000, n_init=100, factor_of_two=True,\n",
    "                            n_equal=False)\n",
    "    if shap_vals2 != \"NA\":\n",
    "        est_top_K = get_ordering(shap_vals2)[:K]\n",
    "        top_K.append(est_top_K)\n",
    "        print(len(top_K))\n",
    "        # if (i+1) % 5==0: \n",
    "        #     print(i+1)"
   ]
  },
  {
   "cell_type": "code",
   "execution_count": 20,
   "metadata": {},
   "outputs": [
    {
     "name": "stdout",
     "output_type": "stream",
     "text": [
      "0.0\n",
      "[100, 100, 100, 100, 10000, 4937, 10000, 10000, 100, 100, 100, 10000]\n",
      "4 4\n"
     ]
    }
   ],
   "source": [
    "top_K = np.array(top_K)\n",
    "most_common_row = mode_rows(top_K)\n",
    "ct = 0\n",
    "for idx in range(top_K.shape[0]):\n",
    "    if np.array_equal(most_common_row, top_K[idx]):\n",
    "        ct += 1\n",
    "print(np.round(1 - ct / top_K.shape[0], 2)) # \"FWER\n",
    "print([len(diffs_all_feats2[j]) for j in range(len(diffs_all_feats2))])\n",
    "print(top_K.shape[0], i)"
   ]
  },
  {
   "cell_type": "code",
   "execution_count": 7,
   "metadata": {},
   "outputs": [],
   "source": [
    "# import pickle\n",
    "# with open(\"test\", \"wb\") as fp:\n",
    "#     pickle.dump(diffs_all_feats2, fp)\n",
    "\n",
    "# with open(\"test\", \"rb\") as fp:\n",
    "#     diffs_all_feats = pickle.load(fp)\n",
    "# len(diffs_all_feats)"
   ]
  },
  {
   "cell_type": "markdown",
   "metadata": {},
   "source": [
    "## Quadratic approximation\n",
    "- GLM, Credit, BRCA, K=5: controls FWER\n",
    "- NN, Credit, K=2: doesn't converge"
   ]
  },
  {
   "cell_type": "code",
   "execution_count": 8,
   "metadata": {},
   "outputs": [],
   "source": [
    "# %run shapley_sampling2\n",
    "# np.random.seed(1)\n",
    "# K = 5\n",
    "# true_order = np.argsort(np.abs(true_shap_vals))[::-1]\n",
    "# true_top_K = true_order[:K]\n",
    "# same_top_K = []\n",
    "# for i in range(100):\n",
    "#     shap_vals2, diffs_all_feats2 = shapley_sampling_adaptive(approx, X_train, xloc, K=K,\n",
    "#                                                 alpha=0.2, mapping_dict=mapping_dict)\n",
    "#     est_top_K = np.argsort(np.abs(shap_vals2))[::-1][:K]\n",
    "#     has_same_top_K = np.array_equal(true_top_K, est_top_K)\n",
    "#     same_top_K.append(has_same_top_K)\n",
    "#     if (i+1) % 5==0: print(i+1, np.round(1-np.mean(same_top_K),2)) # FWER\n",
    "# np.round(1-np.mean(same_top_K),2) "
   ]
  },
  {
   "cell_type": "markdown",
   "metadata": {},
   "source": [
    "### Can we use CVX? Don't think so."
   ]
  },
  {
   "cell_type": "code",
   "execution_count": 6,
   "metadata": {},
   "outputs": [],
   "source": [
    "# Can we use cvx?\n",
    "import cvxpy as cp\n",
    "import numpy as np"
   ]
  },
  {
   "cell_type": "code",
   "execution_count": 23,
   "metadata": {},
   "outputs": [
    {
     "ename": "DCPError",
     "evalue": "Problem does not follow DCP rules. Specifically:\nThe following constraints are not DCP:\nQuadForm(var131, [[0.         6.50770512]\n [6.50770512 0.        ]]) + [-10.  -1.] @ var131 == 0.0 , because the following subexpressions are not:\n|--  QuadForm(var131, [[0.         6.50770512]\n [6.50770512 0.        ]])",
     "output_type": "error",
     "traceback": [
      "\u001b[0;31m---------------------------------------------------------------------------\u001b[0m",
      "\u001b[0;31mDCPError\u001b[0m                                  Traceback (most recent call last)",
      "Cell \u001b[0;32mIn[23], line 17\u001b[0m\n\u001b[1;32m     14\u001b[0m x \u001b[38;5;241m=\u001b[39m cp\u001b[38;5;241m.\u001b[39mVariable(\u001b[38;5;241m2\u001b[39m)\n\u001b[1;32m     15\u001b[0m prob \u001b[38;5;241m=\u001b[39m cp\u001b[38;5;241m.\u001b[39mProblem(cp\u001b[38;5;241m.\u001b[39mMinimize(c\u001b[38;5;241m.\u001b[39mT\u001b[38;5;129m@x\u001b[39m),\n\u001b[1;32m     16\u001b[0m                  [x\u001b[38;5;241m.\u001b[39mT\u001b[38;5;129m@A\u001b[39m\u001b[38;5;129m@x\u001b[39m \u001b[38;5;241m+\u001b[39m b\u001b[38;5;241m.\u001b[39mT\u001b[38;5;129m@x\u001b[39m \u001b[38;5;241m==\u001b[39m \u001b[38;5;241m0\u001b[39m, x \u001b[38;5;241m>\u001b[39m\u001b[38;5;241m=\u001b[39m \u001b[38;5;241m0\u001b[39m])\n\u001b[0;32m---> 17\u001b[0m \u001b[43mprob\u001b[49m\u001b[38;5;241;43m.\u001b[39;49m\u001b[43msolve\u001b[49m\u001b[43m(\u001b[49m\u001b[43m)\u001b[49m\n",
      "File \u001b[0;32m~/opt/anaconda3/envs/shap/lib/python3.9/site-packages/cvxpy/problems/problem.py:493\u001b[0m, in \u001b[0;36mProblem.solve\u001b[0;34m(self, *args, **kwargs)\u001b[0m\n\u001b[1;32m    <a href='file:///Users/jeremygoldwasser/opt/anaconda3/envs/shap/lib/python3.9/site-packages/cvxpy/problems/problem.py?line=490'>491</a>\u001b[0m \u001b[39melse\u001b[39;00m:\n\u001b[1;32m    <a href='file:///Users/jeremygoldwasser/opt/anaconda3/envs/shap/lib/python3.9/site-packages/cvxpy/problems/problem.py?line=491'>492</a>\u001b[0m     solve_func \u001b[39m=\u001b[39m Problem\u001b[39m.\u001b[39m_solve\n\u001b[0;32m--> <a href='file:///Users/jeremygoldwasser/opt/anaconda3/envs/shap/lib/python3.9/site-packages/cvxpy/problems/problem.py?line=492'>493</a>\u001b[0m \u001b[39mreturn\u001b[39;00m solve_func(\u001b[39mself\u001b[39;49m, \u001b[39m*\u001b[39;49margs, \u001b[39m*\u001b[39;49m\u001b[39m*\u001b[39;49mkwargs)\n",
      "File \u001b[0;32m~/opt/anaconda3/envs/shap/lib/python3.9/site-packages/cvxpy/problems/problem.py:1054\u001b[0m, in \u001b[0;36mProblem._solve\u001b[0;34m(self, solver, warm_start, verbose, gp, qcp, requires_grad, enforce_dpp, ignore_dpp, canon_backend, **kwargs)\u001b[0m\n\u001b[1;32m   <a href='file:///Users/jeremygoldwasser/opt/anaconda3/envs/shap/lib/python3.9/site-packages/cvxpy/problems/problem.py?line=1050'>1051</a>\u001b[0m         \u001b[39mself\u001b[39m\u001b[39m.\u001b[39munpack(chain\u001b[39m.\u001b[39mretrieve(soln))\n\u001b[1;32m   <a href='file:///Users/jeremygoldwasser/opt/anaconda3/envs/shap/lib/python3.9/site-packages/cvxpy/problems/problem.py?line=1051'>1052</a>\u001b[0m         \u001b[39mreturn\u001b[39;00m \u001b[39mself\u001b[39m\u001b[39m.\u001b[39mvalue\n\u001b[0;32m-> <a href='file:///Users/jeremygoldwasser/opt/anaconda3/envs/shap/lib/python3.9/site-packages/cvxpy/problems/problem.py?line=1053'>1054</a>\u001b[0m data, solving_chain, inverse_data \u001b[39m=\u001b[39m \u001b[39mself\u001b[39;49m\u001b[39m.\u001b[39;49mget_problem_data(\n\u001b[1;32m   <a href='file:///Users/jeremygoldwasser/opt/anaconda3/envs/shap/lib/python3.9/site-packages/cvxpy/problems/problem.py?line=1054'>1055</a>\u001b[0m     solver, gp, enforce_dpp, ignore_dpp, verbose, canon_backend, kwargs\n\u001b[1;32m   <a href='file:///Users/jeremygoldwasser/opt/anaconda3/envs/shap/lib/python3.9/site-packages/cvxpy/problems/problem.py?line=1055'>1056</a>\u001b[0m )\n\u001b[1;32m   <a href='file:///Users/jeremygoldwasser/opt/anaconda3/envs/shap/lib/python3.9/site-packages/cvxpy/problems/problem.py?line=1057'>1058</a>\u001b[0m \u001b[39mif\u001b[39;00m verbose:\n\u001b[1;32m   <a href='file:///Users/jeremygoldwasser/opt/anaconda3/envs/shap/lib/python3.9/site-packages/cvxpy/problems/problem.py?line=1058'>1059</a>\u001b[0m     \u001b[39mprint\u001b[39m(_NUM_SOLVER_STR)\n",
      "File \u001b[0;32m~/opt/anaconda3/envs/shap/lib/python3.9/site-packages/cvxpy/problems/problem.py:631\u001b[0m, in \u001b[0;36mProblem.get_problem_data\u001b[0;34m(self, solver, gp, enforce_dpp, ignore_dpp, verbose, canon_backend, solver_opts)\u001b[0m\n\u001b[1;32m    <a href='file:///Users/jeremygoldwasser/opt/anaconda3/envs/shap/lib/python3.9/site-packages/cvxpy/problems/problem.py?line=628'>629</a>\u001b[0m \u001b[39mif\u001b[39;00m key \u001b[39m!=\u001b[39m \u001b[39mself\u001b[39m\u001b[39m.\u001b[39m_cache\u001b[39m.\u001b[39mkey:\n\u001b[1;32m    <a href='file:///Users/jeremygoldwasser/opt/anaconda3/envs/shap/lib/python3.9/site-packages/cvxpy/problems/problem.py?line=629'>630</a>\u001b[0m     \u001b[39mself\u001b[39m\u001b[39m.\u001b[39m_cache\u001b[39m.\u001b[39minvalidate()\n\u001b[0;32m--> <a href='file:///Users/jeremygoldwasser/opt/anaconda3/envs/shap/lib/python3.9/site-packages/cvxpy/problems/problem.py?line=630'>631</a>\u001b[0m     solving_chain \u001b[39m=\u001b[39m \u001b[39mself\u001b[39;49m\u001b[39m.\u001b[39;49m_construct_chain(\n\u001b[1;32m    <a href='file:///Users/jeremygoldwasser/opt/anaconda3/envs/shap/lib/python3.9/site-packages/cvxpy/problems/problem.py?line=631'>632</a>\u001b[0m         solver\u001b[39m=\u001b[39;49msolver, gp\u001b[39m=\u001b[39;49mgp,\n\u001b[1;32m    <a href='file:///Users/jeremygoldwasser/opt/anaconda3/envs/shap/lib/python3.9/site-packages/cvxpy/problems/problem.py?line=632'>633</a>\u001b[0m         enforce_dpp\u001b[39m=\u001b[39;49menforce_dpp,\n\u001b[1;32m    <a href='file:///Users/jeremygoldwasser/opt/anaconda3/envs/shap/lib/python3.9/site-packages/cvxpy/problems/problem.py?line=633'>634</a>\u001b[0m         ignore_dpp\u001b[39m=\u001b[39;49mignore_dpp,\n\u001b[1;32m    <a href='file:///Users/jeremygoldwasser/opt/anaconda3/envs/shap/lib/python3.9/site-packages/cvxpy/problems/problem.py?line=634'>635</a>\u001b[0m         canon_backend\u001b[39m=\u001b[39;49mcanon_backend,\n\u001b[1;32m    <a href='file:///Users/jeremygoldwasser/opt/anaconda3/envs/shap/lib/python3.9/site-packages/cvxpy/problems/problem.py?line=635'>636</a>\u001b[0m         solver_opts\u001b[39m=\u001b[39;49msolver_opts)\n\u001b[1;32m    <a href='file:///Users/jeremygoldwasser/opt/anaconda3/envs/shap/lib/python3.9/site-packages/cvxpy/problems/problem.py?line=636'>637</a>\u001b[0m     \u001b[39mself\u001b[39m\u001b[39m.\u001b[39m_cache\u001b[39m.\u001b[39mkey \u001b[39m=\u001b[39m key\n\u001b[1;32m    <a href='file:///Users/jeremygoldwasser/opt/anaconda3/envs/shap/lib/python3.9/site-packages/cvxpy/problems/problem.py?line=637'>638</a>\u001b[0m     \u001b[39mself\u001b[39m\u001b[39m.\u001b[39m_cache\u001b[39m.\u001b[39msolving_chain \u001b[39m=\u001b[39m solving_chain\n",
      "File \u001b[0;32m~/opt/anaconda3/envs/shap/lib/python3.9/site-packages/cvxpy/problems/problem.py:883\u001b[0m, in \u001b[0;36mProblem._construct_chain\u001b[0;34m(self, solver, gp, enforce_dpp, ignore_dpp, canon_backend, solver_opts)\u001b[0m\n\u001b[1;32m    <a href='file:///Users/jeremygoldwasser/opt/anaconda3/envs/shap/lib/python3.9/site-packages/cvxpy/problems/problem.py?line=880'>881</a>\u001b[0m candidate_solvers \u001b[39m=\u001b[39m \u001b[39mself\u001b[39m\u001b[39m.\u001b[39m_find_candidate_solvers(solver\u001b[39m=\u001b[39msolver, gp\u001b[39m=\u001b[39mgp)\n\u001b[1;32m    <a href='file:///Users/jeremygoldwasser/opt/anaconda3/envs/shap/lib/python3.9/site-packages/cvxpy/problems/problem.py?line=881'>882</a>\u001b[0m \u001b[39mself\u001b[39m\u001b[39m.\u001b[39m_sort_candidate_solvers(candidate_solvers)\n\u001b[0;32m--> <a href='file:///Users/jeremygoldwasser/opt/anaconda3/envs/shap/lib/python3.9/site-packages/cvxpy/problems/problem.py?line=882'>883</a>\u001b[0m \u001b[39mreturn\u001b[39;00m construct_solving_chain(\u001b[39mself\u001b[39;49m, candidate_solvers, gp\u001b[39m=\u001b[39;49mgp,\n\u001b[1;32m    <a href='file:///Users/jeremygoldwasser/opt/anaconda3/envs/shap/lib/python3.9/site-packages/cvxpy/problems/problem.py?line=883'>884</a>\u001b[0m                                enforce_dpp\u001b[39m=\u001b[39;49menforce_dpp,\n\u001b[1;32m    <a href='file:///Users/jeremygoldwasser/opt/anaconda3/envs/shap/lib/python3.9/site-packages/cvxpy/problems/problem.py?line=884'>885</a>\u001b[0m                                ignore_dpp\u001b[39m=\u001b[39;49mignore_dpp,\n\u001b[1;32m    <a href='file:///Users/jeremygoldwasser/opt/anaconda3/envs/shap/lib/python3.9/site-packages/cvxpy/problems/problem.py?line=885'>886</a>\u001b[0m                                canon_backend\u001b[39m=\u001b[39;49mcanon_backend,\n\u001b[1;32m    <a href='file:///Users/jeremygoldwasser/opt/anaconda3/envs/shap/lib/python3.9/site-packages/cvxpy/problems/problem.py?line=886'>887</a>\u001b[0m                                solver_opts\u001b[39m=\u001b[39;49msolver_opts)\n",
      "File \u001b[0;32m~/opt/anaconda3/envs/shap/lib/python3.9/site-packages/cvxpy/reductions/solvers/solving_chain.py:184\u001b[0m, in \u001b[0;36mconstruct_solving_chain\u001b[0;34m(problem, candidates, gp, enforce_dpp, ignore_dpp, canon_backend, solver_opts)\u001b[0m\n\u001b[1;32m    <a href='file:///Users/jeremygoldwasser/opt/anaconda3/envs/shap/lib/python3.9/site-packages/cvxpy/reductions/solvers/solving_chain.py?line=181'>182</a>\u001b[0m \u001b[39mif\u001b[39;00m \u001b[39mlen\u001b[39m(problem\u001b[39m.\u001b[39mvariables()) \u001b[39m==\u001b[39m \u001b[39m0\u001b[39m:\n\u001b[1;32m    <a href='file:///Users/jeremygoldwasser/opt/anaconda3/envs/shap/lib/python3.9/site-packages/cvxpy/reductions/solvers/solving_chain.py?line=182'>183</a>\u001b[0m     \u001b[39mreturn\u001b[39;00m SolvingChain(reductions\u001b[39m=\u001b[39m[ConstantSolver()])\n\u001b[0;32m--> <a href='file:///Users/jeremygoldwasser/opt/anaconda3/envs/shap/lib/python3.9/site-packages/cvxpy/reductions/solvers/solving_chain.py?line=183'>184</a>\u001b[0m reductions \u001b[39m=\u001b[39m _reductions_for_problem_class(problem, candidates, gp, solver_opts)\n\u001b[1;32m    <a href='file:///Users/jeremygoldwasser/opt/anaconda3/envs/shap/lib/python3.9/site-packages/cvxpy/reductions/solvers/solving_chain.py?line=185'>186</a>\u001b[0m \u001b[39m# Process DPP status of the problem.\u001b[39;00m\n\u001b[1;32m    <a href='file:///Users/jeremygoldwasser/opt/anaconda3/envs/shap/lib/python3.9/site-packages/cvxpy/reductions/solvers/solving_chain.py?line=186'>187</a>\u001b[0m dpp_context \u001b[39m=\u001b[39m \u001b[39m'\u001b[39m\u001b[39mdcp\u001b[39m\u001b[39m'\u001b[39m \u001b[39mif\u001b[39;00m \u001b[39mnot\u001b[39;00m gp \u001b[39melse\u001b[39;00m \u001b[39m'\u001b[39m\u001b[39mdgp\u001b[39m\u001b[39m'\u001b[39m\n",
      "File \u001b[0;32m~/opt/anaconda3/envs/shap/lib/python3.9/site-packages/cvxpy/reductions/solvers/solving_chain.py:102\u001b[0m, in \u001b[0;36m_reductions_for_problem_class\u001b[0;34m(problem, candidates, gp, solver_opts)\u001b[0m\n\u001b[1;32m     <a href='file:///Users/jeremygoldwasser/opt/anaconda3/envs/shap/lib/python3.9/site-packages/cvxpy/reductions/solvers/solving_chain.py?line=98'>99</a>\u001b[0m     \u001b[39melif\u001b[39;00m problem\u001b[39m.\u001b[39mis_dqcp():\n\u001b[1;32m    <a href='file:///Users/jeremygoldwasser/opt/anaconda3/envs/shap/lib/python3.9/site-packages/cvxpy/reductions/solvers/solving_chain.py?line=99'>100</a>\u001b[0m         append \u001b[39m+\u001b[39m\u001b[39m=\u001b[39m (\u001b[39m\"\u001b[39m\u001b[39m\\n\u001b[39;00m\u001b[39mHowever, the problem does follow DQCP rules. \u001b[39m\u001b[39m\"\u001b[39m\n\u001b[1;32m    <a href='file:///Users/jeremygoldwasser/opt/anaconda3/envs/shap/lib/python3.9/site-packages/cvxpy/reductions/solvers/solving_chain.py?line=100'>101</a>\u001b[0m                    \u001b[39m\"\u001b[39m\u001b[39mConsider calling solve() with `qcp=True`.\u001b[39m\u001b[39m\"\u001b[39m)\n\u001b[0;32m--> <a href='file:///Users/jeremygoldwasser/opt/anaconda3/envs/shap/lib/python3.9/site-packages/cvxpy/reductions/solvers/solving_chain.py?line=101'>102</a>\u001b[0m     \u001b[39mraise\u001b[39;00m DCPError(\n\u001b[1;32m    <a href='file:///Users/jeremygoldwasser/opt/anaconda3/envs/shap/lib/python3.9/site-packages/cvxpy/reductions/solvers/solving_chain.py?line=102'>103</a>\u001b[0m         \u001b[39m\"\u001b[39m\u001b[39mProblem does not follow DCP rules. Specifically:\u001b[39m\u001b[39m\\n\u001b[39;00m\u001b[39m\"\u001b[39m \u001b[39m+\u001b[39m append)\n\u001b[1;32m    <a href='file:///Users/jeremygoldwasser/opt/anaconda3/envs/shap/lib/python3.9/site-packages/cvxpy/reductions/solvers/solving_chain.py?line=103'>104</a>\u001b[0m \u001b[39melif\u001b[39;00m gp \u001b[39mand\u001b[39;00m \u001b[39mnot\u001b[39;00m problem\u001b[39m.\u001b[39mis_dgp():\n\u001b[1;32m    <a href='file:///Users/jeremygoldwasser/opt/anaconda3/envs/shap/lib/python3.9/site-packages/cvxpy/reductions/solvers/solving_chain.py?line=104'>105</a>\u001b[0m     append \u001b[39m=\u001b[39m build_non_disciplined_error_msg(problem, \u001b[39m'\u001b[39m\u001b[39mDGP\u001b[39m\u001b[39m'\u001b[39m)\n",
      "\u001b[0;31mDCPError\u001b[0m: Problem does not follow DCP rules. Specifically:\nThe following constraints are not DCP:\nQuadForm(var131, [[0.         6.50770512]\n [6.50770512 0.        ]]) + [-10.  -1.] @ var131 == 0.0 , because the following subexpressions are not:\n|--  QuadForm(var131, [[0.         6.50770512]\n [6.50770512 0.        ]])"
     ]
    }
   ],
   "source": [
    "np.random.seed(1)\n",
    "Delta = 10\n",
    "var1 = 1\n",
    "var2 = 10\n",
    "b = -np.array([var2, var1])\n",
    "Z_a = 1.96\n",
    "\n",
    "A = np.zeros((2,2))\n",
    "# A[0, 1] = (Delta / 2*Z_a)**2/2 # Must be symmetric\n",
    "A[0, 1] = 0.5*(Delta / Z_a)**2/2\n",
    "A[1,0] = 0.5*(Delta / Z_a)**2/2\n",
    "c = np.ones(2)\n",
    "# Define and solve the CVXPY problem.\n",
    "x = cp.Variable(2)\n",
    "prob = cp.Problem(cp.Minimize(c.T@x),\n",
    "                 [x.T@A@x + b.T@x == 0, x >= 0])\n",
    "prob.solve()\n"
   ]
  },
  {
   "cell_type": "code",
   "execution_count": null,
   "metadata": {},
   "outputs": [],
   "source": []
  },
  {
   "cell_type": "code",
   "execution_count": 9,
   "metadata": {},
   "outputs": [
    {
     "name": "stdout",
     "output_type": "stream",
     "text": [
      "1\n",
      "Hit max # perms without converging. Returning `NA`.\n",
      "1 0.0\n",
      "2 0.0\n",
      "Hit max # perms without converging. Returning `NA`.\n",
      "3 0.0\n",
      "4 0.0\n",
      "Hit max # perms without converging. Returning `NA`.\n",
      "5 0.0\n",
      "6 0.0\n",
      "7 0.0\n",
      "8 0.0\n",
      "9 0.0\n",
      "Hit max # perms without converging. Returning `NA`.\n",
      "10 0.0\n"
     ]
    }
   ],
   "source": [
    "dataset = \"census\"\n",
    "X_train, y_train, X_test, y_test, mapping_dict = load_data(join(dir_path, \"Experiments\", \"Data\"), dataset)\n",
    "model = train_neural_net(X_train, y_train)\n",
    "\n",
    "i = 1\n",
    "N_runs = 10\n",
    "print(i)\n",
    "xloc = X_test[i:(i+1)]\n",
    "shap_vals_all = []\n",
    "top_K = []\n",
    "while len(top_K) < N_runs:\n",
    "    shap_vals, _ = shapley_sampling_adaptive(model, X_train, xloc, K=K, alpha=0.2, \n",
    "                            mapping_dict=mapping_dict, max_n_perms=10000, n_init=100, n_equal=False)\n",
    "    if isinstance(shap_vals, np.ndarray):\n",
    "        #### Compute empirical FWER #####\n",
    "        est_top_K = get_ordering(shap_vals)[:K]\n",
    "        top_K.append(est_top_K)\n",
    "        shap_vals_all.append(shap_vals)\n",
    "        if len(top_K) % 1 == 0: # 20\n",
    "            top_K_arr = np.array(top_K)\n",
    "            most_common_row = mode_rows(top_K_arr)\n",
    "            ct = 0\n",
    "            for idx in range(len(top_K)):\n",
    "                if np.array_equal(most_common_row, top_K_arr[idx]):\n",
    "                    ct += 1\n",
    "            fwer = 1 - ct / len(top_K)\n",
    "            print(len(top_K), np.round(fwer, 2)) # \"FWER"
   ]
  },
  {
   "cell_type": "code",
   "execution_count": null,
   "metadata": {},
   "outputs": [],
   "source": []
  },
  {
   "cell_type": "code",
   "execution_count": null,
   "metadata": {},
   "outputs": [],
   "source": []
  }
 ],
 "metadata": {
  "interpreter": {
   "hash": "768407c71a286f507fab4bce553d71b5cbd766c247b76eb598ef769225202bc3"
  },
  "kernelspec": {
   "display_name": "Python 3.9.16 ('shap')",
   "language": "python",
   "name": "python3"
  },
  "language_info": {
   "codemirror_mode": {
    "name": "ipython",
    "version": 3
   },
   "file_extension": ".py",
   "mimetype": "text/x-python",
   "name": "python",
   "nbconvert_exporter": "python",
   "pygments_lexer": "ipython3",
   "version": "3.9.16"
  },
  "orig_nbformat": 4
 },
 "nbformat": 4,
 "nbformat_minor": 2
}
