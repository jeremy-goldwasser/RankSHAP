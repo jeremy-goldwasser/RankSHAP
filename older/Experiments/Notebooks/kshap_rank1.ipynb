{
 "cells": [
  {
   "cell_type": "code",
   "execution_count": 29,
   "metadata": {},
   "outputs": [],
   "source": [
    "import numpy as np\n",
    "import pandas as pd\n",
    "from sklearn.linear_model import LogisticRegression\n",
    "# import sage\n",
    "from math import comb\n",
    "from scipy.stats import ttest_ind, t\n",
    "from helper import *\n",
    "from kernelshap import *\n",
    "\n",
    "import sys\n",
    "from os.path import join\n",
    "import matplotlib.pyplot as plt\n",
    "\n",
    "import warnings\n",
    "warnings.filterwarnings('ignore')"
   ]
  },
  {
   "cell_type": "code",
   "execution_count": 2,
   "metadata": {},
   "outputs": [],
   "source": [
    "# df = sage.datasets.credit()\n",
    "# df.to_csv(\"Data/credit.csv\")\n",
    "df = pd.read_csv(\"Data/credit.csv\", index_col=0)\n",
    "\n",
    "# Property, other installment, housing, job, status of checking act, credit history, purpose, savings, employment since, marital status, old debtors\n",
    "n = df.shape[0]\n",
    "X_df = df.drop([\"Good Customer\"], axis=1)\n",
    "y = df[\"Good Customer\"]\n",
    "\n",
    "categorical_columns = [\n",
    "    'Checking Status', 'Credit History', 'Purpose', #'Credit Amount', # It's listed but has 923 unique values\n",
    "    'Savings Account/Bonds', 'Employment Since', 'Personal Status',\n",
    "    'Debtors/Guarantors', 'Property Type', 'Other Installment Plans',\n",
    "    'Housing Ownership', 'Job', #'Telephone', 'Foreign Worker' # These are just binary\n",
    "]\n",
    "X_binarized = pd.get_dummies(X_df, columns=categorical_columns)\n",
    "\n",
    "mapping_dict = {}\n",
    "for i, col in enumerate(X_df.columns):\n",
    "    bin_cols = []\n",
    "    for j, bin_col in enumerate(X_binarized.columns):\n",
    "        if bin_col.startswith(col):\n",
    "            bin_cols.append(j)\n",
    "    mapping_dict[i] = bin_cols\n",
    "\n",
    "np.random.seed(1)\n",
    "X_norm = (X_binarized-X_binarized.min())/(X_binarized.max()-X_binarized.min())\n",
    "n_train = round(n*0.8)\n",
    "train_idx = np.random.choice(n, n_train, replace=False)\n",
    "X_train, y_train = X_norm.iloc[train_idx].to_numpy(), y.iloc[train_idx].to_numpy()\n",
    "test_idx = np.setdiff1d(np.arange(n),train_idx)\n",
    "X_test, y_test = X_norm.iloc[test_idx].to_numpy(), y.iloc[test_idx].to_numpy()\n",
    "# d = X_train.shape[1] # dimension of binarized data"
   ]
  },
  {
   "cell_type": "code",
   "execution_count": 3,
   "metadata": {},
   "outputs": [
    {
     "name": "stdout",
     "output_type": "stream",
     "text": [
      "Class imbalance: 72.0\n",
      "Estimation accuracy: 74.0\n"
     ]
    }
   ],
   "source": [
    "logreg = LogisticRegression().fit(X_train, y_train)\n",
    "print(\"Class imbalance: {}\".format(100*(max(np.mean(y_test), 1-np.mean(y_test)))))\n",
    "print(\"Estimation accuracy: {}\".format(np.mean((logreg.predict(X_test) > 0.5)==y_test)*100))\n",
    "\n",
    "def fmodel(x):\n",
    "    return logreg.predict_proba(x)[:,1]\n",
    "\n",
    "# Compute mean and covariance of training data\n",
    "feature_means = np.mean(X_train, axis=0)\n",
    "cov_mat = correct_cov(np.cov(X_train, rowvar=False))\n",
    "\n",
    "# Select point and compute its gradient and hessian\n",
    "xloc = X_test[0:1]\n",
    "BETA = logreg.coef_.reshape(-1)\n",
    "y_pred = fmodel(xloc)\n",
    "gradient = logreg_gradient(y_pred, BETA)\n",
    "hessian = logreg_hessian(y_pred, BETA)\n",
    "\n",
    "# Obtain true SHAP values and verify their feasibility\n",
    "true_shap_vals = compute_shap_vals_quadratic(xloc, gradient, hessian, feature_means, cov_mat, mapping_dict=mapping_dict)\n",
    "\n",
    "def model(input):\n",
    "    return f_second_order_approx(y_pred,input,xloc,gradient,hessian)"
   ]
  },
  {
   "cell_type": "code",
   "execution_count": 9,
   "metadata": {},
   "outputs": [
    {
     "data": {
      "text/plain": [
       "450"
      ]
     },
     "execution_count": 9,
     "metadata": {},
     "output_type": "execute_result"
    }
   ],
   "source": [
    "%run kernelshap\n",
    "np.random.seed(1)\n",
    "K = 3\n",
    "kshap_ests, kshap_vars, n_subsets = kernelshap(model, X_train, xloc, K, \n",
    "            n_perms_btwn_tests=50, n_samples_per_perm=50,\n",
    "            mapping_dict=mapping_dict, K_thru_rest=False)\n",
    "n_subsets"
   ]
  },
  {
   "cell_type": "code",
   "execution_count": null,
   "metadata": {},
   "outputs": [],
   "source": []
  },
  {
   "cell_type": "markdown",
   "metadata": {},
   "source": [
    "## FWER only controlled when n in t-test is # samples per perm, not # perms\n",
    "Running w/ alpha=0.2 (expect up to 20% FWER)\n",
    "- Using 20 samples per permutation, so it's probably not an issue of variance estimation\n",
    "- Running 50x.\n",
    "\n",
    "DF based on # of permutations (as we'd expect). \n",
    "- K=3: 35% FWER\n",
    "- This is true with and without testing K vs K+1, K+2, .... So that doesn't really help.\n",
    "\n",
    "DF based on # of samples per permutation (fewer --> wider distr --> harder to reject). \n",
    "- K=3: Now get 17% FWER :)\n",
    "\n",
    "Problems with latter approach:\n",
    "\n",
    "        - We know variance of SHAP values scales linearly with number of perms O(1/n). Here, it doesn't.\n",
    "        - # samples per permutation is 1) Irrelevant for Bootstrapped variance, and 2) sometimes small. \n",
    "        - Not sure if it's theoretically justified...\n",
    "\n",
    "\n",
    "Repeat with 50 samples per perm (still K=3):\n",
    "- DF of # perms: 30% FWER\n",
    "- DF of # samples per perm: 16% FWER\n",
    "\n",
    "Repeat with 10 samples per perm (very, very slow):\n",
    "- DF of # perms: 60% FWER\n",
    "- DF of # samples per perm: Too slow but seemed to control FWER"
   ]
  },
  {
   "cell_type": "code",
   "execution_count": 136,
   "metadata": {},
   "outputs": [
    {
     "name": "stdout",
     "output_type": "stream",
     "text": [
      "[19  2  0]\n",
      "####################\n",
      "[19  2  0] 400 0.2 5\n",
      "[19  2  3] 200 0.4 10\n",
      "[19  2  6] 200 0.4 15\n",
      "[19  2  5] 300 0.35 20\n",
      "[19  2  3] 400 0.36 25\n",
      "[19  2  1] 100 0.4 30\n",
      "[19  2  7] 200 0.37142857142857144 35\n",
      "[19  2  0] 200 0.375 40\n",
      "[19  2  3] 600 0.37777777777777777 45\n",
      "[ 2 19  3] 200 0.38 50\n"
     ]
    },
    {
     "data": {
      "text/plain": [
       "0.38"
      ]
     },
     "execution_count": 136,
     "metadata": {},
     "output_type": "execute_result"
    }
   ],
   "source": [
    "%run kernelshap\n",
    "np.random.seed(1)\n",
    "K = 3\n",
    "true_order = get_ordering(true_shap_vals)\n",
    "true_top_K = true_order[:K]\n",
    "print(true_top_K)\n",
    "print(\"#\"*20)\n",
    "same_top_K = []\n",
    "for i in range(50):\n",
    "    kshap_ests, kshap_vars, n_subsets = kernelshap(model, X_train, xloc, K,\n",
    "            n_perms_btwn_tests=100, n_samples_per_perm=10,\n",
    "            mapping_dict=mapping_dict, K_thru_rest=False,\n",
    "            alpha=0.2)\n",
    "    est_top_K = np.argsort(np.abs(kshap_ests))[::-1][:K]\n",
    "\n",
    "    has_same_top_K = np.array_equal(true_top_K, est_top_K)\n",
    "    same_top_K.append(has_same_top_K)\n",
    "    if (i+1) % 5==0: print(est_top_K, n_subsets, np.mean(same_top_K), i+1)\n",
    "    \n",
    "np.mean(same_top_K)"
   ]
  },
  {
   "cell_type": "code",
   "execution_count": null,
   "metadata": {},
   "outputs": [],
   "source": []
  },
  {
   "cell_type": "markdown",
   "metadata": {},
   "source": [
    "## Examine distributions\n",
    "### Distribution of KernelSHAP estimates\n",
    "- Yes, it's Gaussian"
   ]
  },
  {
   "cell_type": "code",
   "execution_count": 52,
   "metadata": {},
   "outputs": [
    {
     "data": {
      "image/png": "[encoded data removed]",
      "text/plain": [
       "<Figure size 640x480 with 1 Axes>"
      ]
     },
     "metadata": {},
     "output_type": "display_data"
    }
   ],
   "source": [
    "avg_pred = np.mean(model(X_train))\n",
    "n_samples_per_perm = 10\n",
    "n_subsets = 200\n",
    "most_important_feat = get_ordering(kshap_ests)[0]\n",
    "# kshaps = []\n",
    "# for _ in range(1000):\n",
    "#     coalitions, coalition_values, coalition_vars = compute_coalitions_values(model, X_train, xloc, \n",
    "#                                                                     n_subsets, n_samples_per_perm, \n",
    "#                                                                     mapping_dict)\n",
    "#     kshap_ests = kshap_equation(y_pred, coalitions, coalition_values, avg_pred)\n",
    "#     kshaps.append(kshap_ests[most_important_feat])\n",
    "# np.save('Data/kshap_feat_1000x.npy', np.array(kshaps))\n",
    "\n",
    "kshaps = np.load('Data/kshap_feat_1000x.npy')\n",
    "plt.title(\"Resimulated KernelSHAP value\")\n",
    "plt.hist(kshaps, density=True, bins=np.arange(.05, .15, 0.005))\n",
    "plt.show()"
   ]
  },
  {
   "cell_type": "code",
   "execution_count": null,
   "metadata": {},
   "outputs": [],
   "source": []
  },
  {
   "cell_type": "markdown",
   "metadata": {},
   "source": [
    "### Null distribution of t-statistic\n",
    "We want to know whether the test statistic is t-distributed with some DF under the null that the SHAP values are the same.\n",
    "- Earlier, we observed the tests rejected too often with large DF, but were fine with small DF\n",
    "\n",
    "Procedure:\n",
    "- Generate synthetic data with the mean and variance of our SHAP estimates\n",
    "  - Generate {# perms} samples, since test statistic uses this many samples to compute sample variance\n",
    "  \n",
    "- For many iterations, randomly permute this data (i.e. assuming null is true) and compute its test statistics\n",
    "\n",
    "        - Idk if this is valid. Permutation tests are valid when the two distributions are the same under the null. Here, though, they have the same mean but different variances.\n",
    "        - Even if it is valid, idk whether to use permuted variances\n",
    "- These test statistics are roughly t-distributed, with either a large or small DF\n",
    "\n",
    "        - This seems to contradict our observations earlier. Not sure what to make of this.\n"
   ]
  },
  {
   "cell_type": "code",
   "execution_count": 85,
   "metadata": {},
   "outputs": [
    {
     "name": "stdout",
     "output_type": "stream",
     "text": [
      "895.0302095001521\n",
      "16.14282942986246\n"
     ]
    },
    {
     "data": {
      "image/png": "[encoded data removed]",
      "text/plain": [
       "<Figure size 640x480 with 1 Axes>"
      ]
     },
     "metadata": {},
     "output_type": "display_data"
    }
   ],
   "source": [
    "np.random.seed(1)\n",
    "n_subsets = 500\n",
    "coalitions, coalition_values, coalition_vars = compute_coalitions_values(model, X_train, xloc, \n",
    "                                                                n_subsets, n_samples_per_perm, \n",
    "                                                                mapping_dict)\n",
    "kshap_ests = kshap_equation(y_pred, coalitions, coalition_values, avg_pred)\n",
    "kshap_vars = compute_kshap_vars_ls(coalition_vars, coalitions)\n",
    "\n",
    "order = get_ordering(kshap_ests)\n",
    "first_test_to_fail = 0\n",
    "feat1_idx = int(order[0])\n",
    "feat2_idx = int(order[1])\n",
    "shap1, shap2 = kshap_ests[feat1_idx], kshap_ests[feat2_idx]\n",
    "var1, var2 = kshap_vars[feat1_idx], kshap_vars[feat2_idx]\n",
    "if shap1*shap2 < 0:\n",
    "    shap2 *= -1\n",
    "# n_subsets = 10\n",
    "test_stat = (shap1 - shap2)/np.sqrt(var1/n_subsets + var2/n_subsets)\n",
    "\n",
    "# Randomly generate synthetic data - plausible SHAP values - with their mean and variance\n",
    "n_samples = n_subsets\n",
    "feat1_samples = np.random.normal(loc=shap1, scale=np.sqrt(var1), size=n_samples)\n",
    "feat2_samples = np.random.normal(loc=shap2, scale=np.sqrt(var2), size=n_samples)\n",
    "# Compute permuted test statistics on synthetic data\n",
    "both = np.concatenate((feat1_samples, feat2_samples))\n",
    "test_stats_perm = []\n",
    "for _ in range(1000):\n",
    "    random_order = np.random.choice(n_samples*2, size=n_samples*2, replace=False)\n",
    "    feat1_perm = both[random_order[:n_samples]]\n",
    "    feat2_perm = both[random_order[n_samples:]]\n",
    "    shap1_perm, shap2_perm = np.mean(feat1_perm), np.mean(feat2_perm)\n",
    "    # Not sure what to do about variance. \n",
    "    # var1_perm, var2_perm = np.var(feat1_perm, ddof=1), np.var(feat2_perm, ddof=1)\n",
    "    # test_stat_perm = (shap1_perm - shap2_perm)/np.sqrt(var1_perm/n_subsets + var2_perm/n_subsets)\n",
    "    test_stat_perm = (shap1_perm - shap2_perm)/np.sqrt(var1/n_subsets + var2/n_subsets)\n",
    "    test_stats_perm.append(test_stat_perm)\n",
    "\n",
    "xs = np.arange(-4, 4, 0.1)\n",
    "df = (n_subsets-1)*(var1 + var2)**2 / (var1**2 + var2**2) # \n",
    "print(df)\n",
    "ys = t.pdf(xs, df=df)\n",
    "\n",
    "df2 = (n_samples_per_perm-1)*(var1 + var2)**2 / (var1**2 + var2**2) # Variance was calculated with n_samples_per_perm\n",
    "print(df2)\n",
    "ys2 = t.pdf(xs, df=df2)\n",
    "\n",
    "plt.hist(test_stats_perm, density=True)\n",
    "plt.plot(xs, ys)\n",
    "plt.plot(xs, ys2)\n",
    "plt.title(\"Null distribution of test statistic\")\n",
    "plt.axvline(test_stat)\n",
    "plt.show()\n"
   ]
  },
  {
   "cell_type": "code",
   "execution_count": null,
   "metadata": {},
   "outputs": [],
   "source": []
  },
  {
   "cell_type": "markdown",
   "metadata": {},
   "source": [
    "# Redo with permutation test, not t-test"
   ]
  },
  {
   "cell_type": "code",
   "execution_count": 94,
   "metadata": {},
   "outputs": [
    {
     "name": "stdout",
     "output_type": "stream",
     "text": [
      "500\n",
      "True\n"
     ]
    }
   ],
   "source": [
    "%run kernelshap\n",
    "np.random.seed(1)\n",
    "K = 3\n",
    "kshap_ests, kshap_vars, n_subsets = kernelshap(model, X_train, xloc, K, \n",
    "            n_perms_btwn_tests=50, n_samples_per_perm=50,\n",
    "            mapping_dict=mapping_dict, K_thru_rest=False, perm_test=True)\n",
    "print(n_subsets)\n",
    "print(get_ordering(true_shap_vals))\n",
    "print(get_ordering(kshap_ests))"
   ]
  },
  {
   "cell_type": "markdown",
   "metadata": {},
   "source": [
    "## Again, FWER only seems controlled using # samples per perm (confusing)\n",
    "- alpha=0.2 --> Expect FWER ≤ 20%\n",
    "- Here, make # samples per perm synthetic samples, with which to calculate permuted test stats\n",
    "\n",
    "Running 50x w/ 20 samples/perm: \n",
    "- Number of sampled points is number of samples per perm: FWER is 15%\n",
    "- Number of sampled points is number of subsets: FWER is 50%\n",
    "- Number of sampled points is always 1000: FWER is 50%\n",
    "\n",
    "Running 50x w/ 5 samples/perm (extremely slow): \n",
    "- Number of sampled points is number of samples per perm: 25% FWER\n"
   ]
  },
  {
   "cell_type": "code",
   "execution_count": 130,
   "metadata": {},
   "outputs": [
    {
     "name": "stdout",
     "output_type": "stream",
     "text": [
      "[19  2  0]\n",
      "####################\n",
      "[19  2  0] 1000 0.5 2\n",
      "[19  2  3] 1500 0.25 4\n",
      "[19  2  0] 3000 0.5 6\n"
     ]
    },
    {
     "ename": "KeyboardInterrupt",
     "evalue": "",
     "output_type": "error",
     "traceback": [
      "\u001b[0;31m---------------------------------------------------------------------------\u001b[0m",
      "\u001b[0;31mKeyboardInterrupt\u001b[0m                         Traceback (most recent call last)",
      "Cell \u001b[0;32mIn[130], line 10\u001b[0m\n\u001b[1;32m      8\u001b[0m same_top_K \u001b[38;5;241m=\u001b[39m []\n\u001b[1;32m      9\u001b[0m \u001b[38;5;28;01mfor\u001b[39;00m i \u001b[38;5;129;01min\u001b[39;00m \u001b[38;5;28mrange\u001b[39m(\u001b[38;5;241m50\u001b[39m):\n\u001b[0;32m---> 10\u001b[0m     kshap_ests, kshap_vars, n_subsets \u001b[38;5;241m=\u001b[39m \u001b[43mkernelshap\u001b[49m\u001b[43m(\u001b[49m\u001b[43mmodel\u001b[49m\u001b[43m,\u001b[49m\u001b[43m \u001b[49m\u001b[43mX_train\u001b[49m\u001b[43m,\u001b[49m\u001b[43m \u001b[49m\u001b[43mxloc\u001b[49m\u001b[43m,\u001b[49m\u001b[43m \u001b[49m\u001b[43mK\u001b[49m\u001b[43m,\u001b[49m\n\u001b[1;32m     11\u001b[0m \u001b[43m            \u001b[49m\u001b[43mn_perms_btwn_tests\u001b[49m\u001b[38;5;241;43m=\u001b[39;49m\u001b[38;5;241;43m500\u001b[39;49m\u001b[43m,\u001b[49m\u001b[43m \u001b[49m\u001b[43mn_samples_per_perm\u001b[49m\u001b[38;5;241;43m=\u001b[39;49m\u001b[38;5;241;43m20\u001b[39;49m\u001b[43m,\u001b[49m\n\u001b[1;32m     12\u001b[0m \u001b[43m            \u001b[49m\u001b[43mmapping_dict\u001b[49m\u001b[38;5;241;43m=\u001b[39;49m\u001b[43mmapping_dict\u001b[49m\u001b[43m,\u001b[49m\u001b[43m \u001b[49m\u001b[43mK_thru_rest\u001b[49m\u001b[38;5;241;43m=\u001b[39;49m\u001b[38;5;28;43;01mTrue\u001b[39;49;00m\u001b[43m,\u001b[49m\u001b[43m \u001b[49m\u001b[43mperm_test\u001b[49m\u001b[38;5;241;43m=\u001b[39;49m\u001b[38;5;28;43;01mTrue\u001b[39;49;00m\u001b[43m,\u001b[49m\n\u001b[1;32m     13\u001b[0m \u001b[43m            \u001b[49m\u001b[43malpha\u001b[49m\u001b[38;5;241;43m=\u001b[39;49m\u001b[38;5;241;43m0.2\u001b[39;49m\u001b[43m,\u001b[49m\u001b[43m \u001b[49m\u001b[43mn\u001b[49m\u001b[38;5;241;43m=\u001b[39;49m\u001b[38;5;241;43m20\u001b[39;49m\u001b[43m)\u001b[49m\n\u001b[1;32m     14\u001b[0m     est_top_K \u001b[38;5;241m=\u001b[39m np\u001b[38;5;241m.\u001b[39margsort(np\u001b[38;5;241m.\u001b[39mabs(kshap_ests))[::\u001b[38;5;241m-\u001b[39m\u001b[38;5;241m1\u001b[39m][:K]\n\u001b[1;32m     16\u001b[0m     has_same_top_K \u001b[38;5;241m=\u001b[39m np\u001b[38;5;241m.\u001b[39marray_equal(true_top_K, est_top_K)\n",
      "File \u001b[0;32m~/Desktop/RankSHAP/kernelshap.py:239\u001b[0m, in \u001b[0;36mkernelshap\u001b[0;34m(model, X, xloc, K, n_perms_btwn_tests, n_samples_per_perm, mapping_dict, alpha, K_thru_rest, perm_test, n, var_method)\u001b[0m\n\u001b[1;32m    <a href='file:///Users/jeremygoldwasser/Desktop/RankSHAP/kernelshap.py?line=236'>237</a>\u001b[0m y_pred \u001b[39m=\u001b[39m model(xloc)\n\u001b[1;32m    <a href='file:///Users/jeremygoldwasser/Desktop/RankSHAP/kernelshap.py?line=237'>238</a>\u001b[0m \u001b[39mwhile\u001b[39;00m \u001b[39mnot\u001b[39;00m converged:\n\u001b[0;32m--> <a href='file:///Users/jeremygoldwasser/Desktop/RankSHAP/kernelshap.py?line=238'>239</a>\u001b[0m     coalitions_new, coalition_values_new, coalition_vars_new \u001b[39m=\u001b[39m compute_coalitions_values(model, X, xloc, \n\u001b[1;32m    <a href='file:///Users/jeremygoldwasser/Desktop/RankSHAP/kernelshap.py?line=239'>240</a>\u001b[0m                                                                         n_perms_btwn_tests, n_samples_per_perm, \n\u001b[1;32m    <a href='file:///Users/jeremygoldwasser/Desktop/RankSHAP/kernelshap.py?line=240'>241</a>\u001b[0m                                                                         mapping_dict)\n\u001b[1;32m    <a href='file:///Users/jeremygoldwasser/Desktop/RankSHAP/kernelshap.py?line=241'>242</a>\u001b[0m     \u001b[39mif\u001b[39;00m first:\n\u001b[1;32m    <a href='file:///Users/jeremygoldwasser/Desktop/RankSHAP/kernelshap.py?line=242'>243</a>\u001b[0m         coalitions, coalition_values, coalition_vars \u001b[39m=\u001b[39m coalitions_new, coalition_values_new, coalition_vars_new\n",
      "File \u001b[0;32m~/Desktop/RankSHAP/kernelshap.py:24\u001b[0m, in \u001b[0;36mcompute_coalitions_values\u001b[0;34m(model, X, xloc, n_perms_btwn_tests, n_samples_per_perm, mapping_dict)\u001b[0m\n\u001b[1;32m     <a href='file:///Users/jeremygoldwasser/Desktop/RankSHAP/kernelshap.py?line=21'>22</a>\u001b[0m z \u001b[39m=\u001b[39m np\u001b[39m.\u001b[39mzeros(d)\n\u001b[1;32m     <a href='file:///Users/jeremygoldwasser/Desktop/RankSHAP/kernelshap.py?line=22'>23</a>\u001b[0m z[S] \u001b[39m=\u001b[39m \u001b[39m1\u001b[39m\n\u001b[0;32m---> <a href='file:///Users/jeremygoldwasser/Desktop/RankSHAP/kernelshap.py?line=23'>24</a>\u001b[0m w_x_vals \u001b[39m=\u001b[39m coalitions_kshap(X, xloc, z, n_samples_per_perm, mapping_dict)\n\u001b[1;32m     <a href='file:///Users/jeremygoldwasser/Desktop/RankSHAP/kernelshap.py?line=25'>26</a>\u001b[0m count \u001b[39m+\u001b[39m\u001b[39m=\u001b[39m \u001b[39m1\u001b[39m\n\u001b[1;32m     <a href='file:///Users/jeremygoldwasser/Desktop/RankSHAP/kernelshap.py?line=26'>27</a>\u001b[0m coalitions \u001b[39m=\u001b[39m np\u001b[39m.\u001b[39mappend(coalitions, z)\u001b[39m.\u001b[39mreshape((count, d))        \n",
      "File \u001b[0;32m~/Desktop/RankSHAP/kernelshap.py:51\u001b[0m, in \u001b[0;36mcoalitions_kshap\u001b[0;34m(X, xloc, z, n_samples_per_perm, mapping_dict)\u001b[0m\n\u001b[1;32m     <a href='file:///Users/jeremygoldwasser/Desktop/RankSHAP/kernelshap.py?line=48'>49</a>\u001b[0m w_x_vals \u001b[39m=\u001b[39m []\n\u001b[1;32m     <a href='file:///Users/jeremygoldwasser/Desktop/RankSHAP/kernelshap.py?line=49'>50</a>\u001b[0m \u001b[39mfor\u001b[39;00m _ \u001b[39min\u001b[39;00m \u001b[39mrange\u001b[39m(n_samples_per_perm):\n\u001b[0;32m---> <a href='file:///Users/jeremygoldwasser/Desktop/RankSHAP/kernelshap.py?line=50'>51</a>\u001b[0m     w \u001b[39m=\u001b[39m X[np\u001b[39m.\u001b[39;49mrandom\u001b[39m.\u001b[39;49mchoice(X\u001b[39m.\u001b[39;49mshape[\u001b[39m0\u001b[39;49m], size\u001b[39m=\u001b[39;49m\u001b[39m1\u001b[39;49m),:]\n\u001b[1;32m     <a href='file:///Users/jeremygoldwasser/Desktop/RankSHAP/kernelshap.py?line=51'>52</a>\u001b[0m     \u001b[39m# Copy xloc, then replace its \"unknown\" features with those of random sample w\u001b[39;00m\n\u001b[1;32m     <a href='file:///Users/jeremygoldwasser/Desktop/RankSHAP/kernelshap.py?line=52'>53</a>\u001b[0m     w_x_s \u001b[39m=\u001b[39m np\u001b[39m.\u001b[39mcopy(xloc)\n",
      "File \u001b[0;32mmtrand.pyx:946\u001b[0m, in \u001b[0;36mnumpy.random.mtrand.RandomState.choice\u001b[0;34m()\u001b[0m\n",
      "File \u001b[0;32m<__array_function__ internals>:180\u001b[0m, in \u001b[0;36mprod\u001b[0;34m(*args, **kwargs)\u001b[0m\n",
      "File \u001b[0;32m~/opt/anaconda3/envs/shap/lib/python3.9/site-packages/numpy/core/fromnumeric.py:3045\u001b[0m, in \u001b[0;36mprod\u001b[0;34m(a, axis, dtype, out, keepdims, initial, where)\u001b[0m\n\u001b[1;32m   <a href='file:///Users/jeremygoldwasser/opt/anaconda3/envs/shap/lib/python3.9/site-packages/numpy/core/fromnumeric.py?line=2926'>2927</a>\u001b[0m \u001b[39m@array_function_dispatch\u001b[39m(_prod_dispatcher)\n\u001b[1;32m   <a href='file:///Users/jeremygoldwasser/opt/anaconda3/envs/shap/lib/python3.9/site-packages/numpy/core/fromnumeric.py?line=2927'>2928</a>\u001b[0m \u001b[39mdef\u001b[39;00m \u001b[39mprod\u001b[39m(a, axis\u001b[39m=\u001b[39m\u001b[39mNone\u001b[39;00m, dtype\u001b[39m=\u001b[39m\u001b[39mNone\u001b[39;00m, out\u001b[39m=\u001b[39m\u001b[39mNone\u001b[39;00m, keepdims\u001b[39m=\u001b[39mnp\u001b[39m.\u001b[39m_NoValue,\n\u001b[1;32m   <a href='file:///Users/jeremygoldwasser/opt/anaconda3/envs/shap/lib/python3.9/site-packages/numpy/core/fromnumeric.py?line=2928'>2929</a>\u001b[0m          initial\u001b[39m=\u001b[39mnp\u001b[39m.\u001b[39m_NoValue, where\u001b[39m=\u001b[39mnp\u001b[39m.\u001b[39m_NoValue):\n\u001b[1;32m   <a href='file:///Users/jeremygoldwasser/opt/anaconda3/envs/shap/lib/python3.9/site-packages/numpy/core/fromnumeric.py?line=2929'>2930</a>\u001b[0m     \u001b[39m\"\"\"\u001b[39;00m\n\u001b[1;32m   <a href='file:///Users/jeremygoldwasser/opt/anaconda3/envs/shap/lib/python3.9/site-packages/numpy/core/fromnumeric.py?line=2930'>2931</a>\u001b[0m \u001b[39m    Return the product of array elements over a given axis.\u001b[39;00m\n\u001b[1;32m   <a href='file:///Users/jeremygoldwasser/opt/anaconda3/envs/shap/lib/python3.9/site-packages/numpy/core/fromnumeric.py?line=2931'>2932</a>\u001b[0m \n\u001b[0;32m   (...)\u001b[0m\n\u001b[1;32m   <a href='file:///Users/jeremygoldwasser/opt/anaconda3/envs/shap/lib/python3.9/site-packages/numpy/core/fromnumeric.py?line=3042'>3043</a>\u001b[0m \u001b[39m    10\u001b[39;00m\n\u001b[1;32m   <a href='file:///Users/jeremygoldwasser/opt/anaconda3/envs/shap/lib/python3.9/site-packages/numpy/core/fromnumeric.py?line=3043'>3044</a>\u001b[0m \u001b[39m    \"\"\"\u001b[39;00m\n\u001b[0;32m-> <a href='file:///Users/jeremygoldwasser/opt/anaconda3/envs/shap/lib/python3.9/site-packages/numpy/core/fromnumeric.py?line=3044'>3045</a>\u001b[0m     \u001b[39mreturn\u001b[39;00m _wrapreduction(a, np\u001b[39m.\u001b[39;49mmultiply, \u001b[39m'\u001b[39;49m\u001b[39mprod\u001b[39;49m\u001b[39m'\u001b[39;49m, axis, dtype, out,\n\u001b[1;32m   <a href='file:///Users/jeremygoldwasser/opt/anaconda3/envs/shap/lib/python3.9/site-packages/numpy/core/fromnumeric.py?line=3045'>3046</a>\u001b[0m                           keepdims\u001b[39m=\u001b[39;49mkeepdims, initial\u001b[39m=\u001b[39;49minitial, where\u001b[39m=\u001b[39;49mwhere)\n",
      "File \u001b[0;32m~/opt/anaconda3/envs/shap/lib/python3.9/site-packages/numpy/core/fromnumeric.py:86\u001b[0m, in \u001b[0;36m_wrapreduction\u001b[0;34m(obj, ufunc, method, axis, dtype, out, **kwargs)\u001b[0m\n\u001b[1;32m     <a href='file:///Users/jeremygoldwasser/opt/anaconda3/envs/shap/lib/python3.9/site-packages/numpy/core/fromnumeric.py?line=82'>83</a>\u001b[0m         \u001b[39melse\u001b[39;00m:\n\u001b[1;32m     <a href='file:///Users/jeremygoldwasser/opt/anaconda3/envs/shap/lib/python3.9/site-packages/numpy/core/fromnumeric.py?line=83'>84</a>\u001b[0m             \u001b[39mreturn\u001b[39;00m reduction(axis\u001b[39m=\u001b[39maxis, out\u001b[39m=\u001b[39mout, \u001b[39m*\u001b[39m\u001b[39m*\u001b[39mpasskwargs)\n\u001b[0;32m---> <a href='file:///Users/jeremygoldwasser/opt/anaconda3/envs/shap/lib/python3.9/site-packages/numpy/core/fromnumeric.py?line=85'>86</a>\u001b[0m \u001b[39mreturn\u001b[39;00m ufunc\u001b[39m.\u001b[39;49mreduce(obj, axis, dtype, out, \u001b[39m*\u001b[39;49m\u001b[39m*\u001b[39;49mpasskwargs)\n",
      "\u001b[0;31mKeyboardInterrupt\u001b[0m: "
     ]
    }
   ],
   "source": [
    "%run kernelshap\n",
    "np.random.seed(1)\n",
    "K = 3\n",
    "true_order = get_ordering(true_shap_vals)\n",
    "true_top_K = true_order[:K]\n",
    "print(true_top_K)\n",
    "print(\"#\"*20)\n",
    "same_top_K = []\n",
    "for i in range(50):\n",
    "    kshap_ests, kshap_vars, n_subsets = kernelshap(model, X_train, xloc, K,\n",
    "            n_perms_btwn_tests=500, n_samples_per_perm=20,\n",
    "            mapping_dict=mapping_dict, K_thru_rest=False, perm_test=True,\n",
    "            alpha=0.2, n=20)\n",
    "    est_top_K = np.argsort(np.abs(kshap_ests))[::-1][:K]\n",
    "\n",
    "    has_same_top_K = np.array_equal(true_top_K, est_top_K)\n",
    "    same_top_K.append(has_same_top_K)\n",
    "    if (i+1) % 2==0: print(est_top_K, n_subsets, np.mean(same_top_K), i+1)\n",
    "np.mean(same_top_K)"
   ]
  },
  {
   "cell_type": "code",
   "execution_count": null,
   "metadata": {},
   "outputs": [],
   "source": []
  },
  {
   "cell_type": "markdown",
   "metadata": {},
   "source": [
    "## Redo using bootstrapped variance. Not as good. \n",
    "- alpha=0.2 --> Expect FWER ≤ 20%\n",
    "- Running 50x w/ 5 samples/perm: \n",
    "\n",
    "### T-test: \n",
    "- Number of sampled points is number of subsets: FWER is 70%\n",
    "- Number of sampled points is always 1000: FWER is 70%\n",
    "- Number of sampled points is number of samples per perm: FWER is 40%\n",
    "\n",
    "20 samples/perm (using): FWER is 35%\n",
    "\n",
    "### Permutation test: \n",
    "- Number of sampled points is number of subsets: FWER is 55%\n",
    "- Number of sampled points is always 1000: FWER is 50%\n",
    "- Number of sampled points is number of samples per perm: FWER is 40%\n",
    "\n",
    "20 samples/perm (using): FWER is 35%"
   ]
  },
  {
   "cell_type": "code",
   "execution_count": 139,
   "metadata": {},
   "outputs": [
    {
     "name": "stdout",
     "output_type": "stream",
     "text": [
      "[19  2  0]\n",
      "####################\n",
      "[19  2  3] 500 0.6 5\n",
      "[19  2  0] 500 0.6 10\n",
      "[19  2  3] 500 0.6666666666666666 15\n",
      "[19  2  0] 4000 0.7 20\n",
      "[19  2  0] 500 0.72 25\n",
      "[19  2  0] 1000 0.7 30\n",
      "[19  2  3] 500 0.6571428571428571 35\n",
      "[19  2  3] 500 0.625 40\n",
      "[19  2  0] 1500 0.6444444444444445 45\n",
      "[19  2  0] 1000 0.66 50\n"
     ]
    },
    {
     "data": {
      "text/plain": [
       "0.66"
      ]
     },
     "execution_count": 139,
     "metadata": {},
     "output_type": "execute_result"
    }
   ],
   "source": [
    "%run kernelshap\n",
    "np.random.seed(2)\n",
    "K = 3\n",
    "true_order = get_ordering(true_shap_vals)\n",
    "true_top_K = true_order[:K]\n",
    "print(true_top_K)\n",
    "print(\"#\"*20)\n",
    "same_top_K = []\n",
    "for i in range(50):\n",
    "    kshap_ests, kshap_vars, n_subsets = kernelshap(model, X_train, xloc, K,\n",
    "            n_perms_btwn_tests=500, n_samples_per_perm=20,\n",
    "            mapping_dict=mapping_dict, K_thru_rest=False, perm_test=True,\n",
    "            alpha=0.2, var_method=\"boot\", n=20)\n",
    "    est_top_K = np.argsort(np.abs(kshap_ests))[::-1][:K]\n",
    "\n",
    "    has_same_top_K = np.array_equal(true_top_K, est_top_K)\n",
    "    same_top_K.append(has_same_top_K)\n",
    "    if (i+1) % 5==0: print(est_top_K, n_subsets, np.mean(same_top_K), i+1)\n",
    "\n",
    "np.mean(same_top_K)"
   ]
  },
  {
   "cell_type": "code",
   "execution_count": null,
   "metadata": {},
   "outputs": [],
   "source": []
  }
 ],
 "metadata": {
  "interpreter": {
   "hash": "768407c71a286f507fab4bce553d71b5cbd766c247b76eb598ef769225202bc3"
  },
  "kernelspec": {
   "display_name": "Python 3.9.16 ('shap')",
   "language": "python",
   "name": "python3"
  },
  "language_info": {
   "codemirror_mode": {
    "name": "ipython",
    "version": 3
   },
   "file_extension": ".py",
   "mimetype": "text/x-python",
   "name": "python",
   "nbconvert_exporter": "python",
   "pygments_lexer": "ipython3",
   "version": "3.9.16"
  },
  "orig_nbformat": 4
 },
 "nbformat": 4,
 "nbformat_minor": 2
}
