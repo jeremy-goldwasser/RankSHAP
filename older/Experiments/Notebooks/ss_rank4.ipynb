{
 "cells": [
  {
   "cell_type": "code",
   "execution_count": 1,
   "metadata": {},
   "outputs": [
    {
     "name": "stderr",
     "output_type": "stream",
     "text": [
      "/Users/jeremygoldwasser/opt/anaconda3/envs/shap/lib/python3.9/site-packages/tqdm/auto.py:21: TqdmWarning: IProgress not found. Please update jupyter and ipywidgets. See https://ipywidgets.readthedocs.io/en/stable/user_install.html\n",
      "  from .autonotebook import tqdm as notebook_tqdm\n"
     ]
    }
   ],
   "source": [
    "import numpy as np\n",
    "import sys\n",
    "from os.path import join\n",
    "\n",
    "dir_path = \"/Users/jeremygoldwasser/Desktop/RankSHAP\"\n",
    "data_path = join(dir_path, \"Experiments\", \"Data\")\n",
    "sys.path.append(join(dir_path, \"HelperFiles\"))\n",
    "from helper2 import *\n",
    "from shapley_sampling3 import *\n",
    "from train_models2 import *\n",
    "from load_data import *\n",
    "\n",
    "import warnings\n",
    "warnings.filterwarnings('ignore')\n",
    "\n"
   ]
  },
  {
   "cell_type": "markdown",
   "metadata": {},
   "source": [
    "## Load dataset and train model"
   ]
  },
  {
   "cell_type": "code",
   "execution_count": 5,
   "metadata": {},
   "outputs": [],
   "source": [
    "dataset = \"census\"\n",
    "# X_train, y_train, X_test, y_test, mapping_dict = make_data(data_path, dataset)\n",
    "# save_data(data_path, dataset, X_train, y_train, X_test, y_test, mapping_dict)\n",
    "X_train, y_train, X_test, y_test, mapping_dict = load_data(data_path, dataset)\n",
    "xloc = X_test[1:2]"
   ]
  },
  {
   "cell_type": "code",
   "execution_count": 6,
   "metadata": {},
   "outputs": [
    {
     "name": "stdout",
     "output_type": "stream",
     "text": [
      "Class imbalance: 75%\n",
      "NN 82% accuracy\n"
     ]
    }
   ],
   "source": [
    "model = train_neural_net(X_train, y_train)\n",
    "\n",
    "print(\"Class imbalance: {}%\".format(round(100*(max(np.mean(y_test), 1-np.mean(y_test))))))\n",
    "Y_preds = (model(X_test) > 0.5).astype(\"int\")\n",
    "print(\"NN {}% accuracy\".format(round(np.mean(Y_preds == y_test)*100)))"
   ]
  },
  {
   "cell_type": "markdown",
   "metadata": {},
   "source": [
    "## Preliminary run of Shapley sampling\n",
    "\n",
    "Not infrequently, expected number of samples to be significant exceeds max number of perms; sampling it, though, it's significant. This suggests our distribution is too conservative. Maybe we can remove the factor of 2."
   ]
  },
  {
   "cell_type": "code",
   "execution_count": 10,
   "metadata": {},
   "outputs": [],
   "source": [
    "# %run shapley_sampling2\n",
    "np.random.seed(6)\n",
    "\n",
    "shap_vals, diffs_all_feats = rankshap(model, X_train, xloc, K=2, alpha=0.2, mapping_dict=mapping_dict, max_n_perms=10000, abs=True)\n",
    "get_ordering(shap_vals, abs=True)"
   ]
  },
  {
   "cell_type": "code",
   "execution_count": 8,
   "metadata": {},
   "outputs": [
    {
     "name": "stdout",
     "output_type": "stream",
     "text": [
      "0.524535798325114 0.53665346\n",
      "[0.28216124 0.10702227 0.07026205 0.0640175  0.04771363 0.0221793\n",
      " 0.0179747  0.01356653 0.01060656 0.00572422 0.00252114 0.00032385]\n"
     ]
    }
   ],
   "source": [
    "print(np.sum(shap_vals), model(xloc) - np.mean(model(X_train)))\n",
    "\n",
    "print(np.sort(np.abs(shap_vals))[::-1])"
   ]
  },
  {
   "cell_type": "markdown",
   "metadata": {},
   "source": [
    "# Simulate Experimental FWER"
   ]
  },
  {
   "cell_type": "code",
   "execution_count": 15,
   "metadata": {},
   "outputs": [
    {
     "name": "stdout",
     "output_type": "stream",
     "text": [
      "1\n",
      "2\n",
      "3\n",
      "4\n",
      "5\n"
     ]
    }
   ],
   "source": [
    "# %run shapley_sampling2\n",
    "# np.random.seed(2) # Unusual\n",
    "K = 5\n",
    "top_K = []\n",
    "for i in range(5):\n",
    "    # print(i)\n",
    "    shap_vals2, diffs_all_feats2 = rankshap(model, X_train, xloc, K=K, alpha=0.2, \n",
    "                            mapping_dict=mapping_dict, abs=True, n_equal=False)\n",
    "    if shap_vals2 != \"NA\":\n",
    "        est_top_K = get_ordering(shap_vals2)[:K]\n",
    "        top_K.append(est_top_K)\n",
    "        print(len(top_K))\n",
    "        # if (i+1) % 5==0: \n",
    "        #     print(i+1)"
   ]
  },
  {
   "cell_type": "code",
   "execution_count": 20,
   "metadata": {},
   "outputs": [
    {
     "name": "stdout",
     "output_type": "stream",
     "text": [
      "0.0\n",
      "[4184, 100, 2570, 100, 7131, 100, 100, 2044, 792, 100, 100, 2083]\n"
     ]
    }
   ],
   "source": [
    "print(calc_fwer(top_K))\n",
    "print([len(diffs_all_feats2[j]) for j in range(len(diffs_all_feats2))])"
   ]
  },
  {
   "cell_type": "code",
   "execution_count": null,
   "metadata": {},
   "outputs": [],
   "source": []
  }
 ],
 "metadata": {
  "interpreter": {
   "hash": "768407c71a286f507fab4bce553d71b5cbd766c247b76eb598ef769225202bc3"
  },
  "kernelspec": {
   "display_name": "Python 3.9.16 ('shap')",
   "language": "python",
   "name": "python3"
  },
  "language_info": {
   "codemirror_mode": {
    "name": "ipython",
    "version": 3
   },
   "file_extension": ".py",
   "mimetype": "text/x-python",
   "name": "python",
   "nbconvert_exporter": "python",
   "pygments_lexer": "ipython3",
   "version": "3.9.16"
  },
  "orig_nbformat": 4
 },
 "nbformat": 4,
 "nbformat_minor": 2
}
