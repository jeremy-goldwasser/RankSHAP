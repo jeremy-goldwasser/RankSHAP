{
 "cells": [
  {
   "cell_type": "code",
   "execution_count": 2,
   "metadata": {},
   "outputs": [],
   "source": [
    "import numpy as np\n",
    "import pandas as pd\n",
    "from sklearn.linear_model import LogisticRegression\n",
    "# import sage\n",
    "# from scipy.stats import rankdata\n",
    "from scipy.stats import ttest_ind, t\n",
    "import sys\n",
    "from helper import *\n",
    "from shapley_sampling import *\n",
    "from os.path import join\n",
    "import matplotlib.pyplot as plt\n",
    "\n",
    "import warnings\n",
    "warnings.filterwarnings('ignore')"
   ]
  },
  {
   "cell_type": "code",
   "execution_count": 3,
   "metadata": {},
   "outputs": [],
   "source": [
    "# df = sage.datasets.credit()\n",
    "# df.to_csv(\"Data/credit.csv\")\n",
    "df = pd.read_csv(\"Data/credit.csv\", index_col=0)\n",
    "\n",
    "# Property, other installment, housing, job, status of checking act, credit history, purpose, savings, employment since, marital status, old debtors\n",
    "n = df.shape[0]\n",
    "X_df = df.drop([\"Good Customer\"], axis=1)\n",
    "y = df[\"Good Customer\"]\n",
    "\n",
    "categorical_columns = [\n",
    "    'Checking Status', 'Credit History', 'Purpose', #'Credit Amount', # It's listed but has 923 unique values\n",
    "    'Savings Account/Bonds', 'Employment Since', 'Personal Status',\n",
    "    'Debtors/Guarantors', 'Property Type', 'Other Installment Plans',\n",
    "    'Housing Ownership', 'Job', #'Telephone', 'Foreign Worker' # These are just binary\n",
    "]\n",
    "X_binarized = pd.get_dummies(X_df, columns=categorical_columns)\n",
    "\n",
    "mapping_dict = {}\n",
    "for i, col in enumerate(X_df.columns):\n",
    "    bin_cols = []\n",
    "    for j, bin_col in enumerate(X_binarized.columns):\n",
    "        if bin_col.startswith(col):\n",
    "            bin_cols.append(j)\n",
    "    mapping_dict[i] = bin_cols\n",
    "\n",
    "np.random.seed(1)\n",
    "X_norm = (X_binarized-X_binarized.min())/(X_binarized.max()-X_binarized.min())\n",
    "n_train = round(n*0.8)\n",
    "train_idx = np.random.choice(n, n_train, replace=False)\n",
    "X_train, y_train = X_norm.iloc[train_idx].to_numpy(), y.iloc[train_idx].to_numpy()\n",
    "test_idx = np.setdiff1d(np.arange(n),train_idx)\n",
    "X_test, y_test = X_norm.iloc[test_idx].to_numpy(), y.iloc[test_idx].to_numpy()\n",
    "d = X_df.shape[1]"
   ]
  },
  {
   "cell_type": "code",
   "execution_count": null,
   "metadata": {},
   "outputs": [],
   "source": []
  },
  {
   "cell_type": "code",
   "execution_count": 4,
   "metadata": {},
   "outputs": [],
   "source": [
    "# def correct_cov(cov_mat,Kr = 10000):\n",
    "#     u, s, vh = np.linalg.svd(cov_mat, full_matrices=True)\n",
    "#     if np.max(s)/np.min(s) < Kr:\n",
    "#         cov2 = cov_mat\n",
    "#     else:\n",
    "#         s_max = s[0]\n",
    "#         min_acceptable = s_max/Kr\n",
    "#         s2 = np.copy(s)\n",
    "#         s2[s <= min_acceptable] = min_acceptable\n",
    "#         cov2 = np.matmul(u, np.matmul(np.diag(s2), vh))\n",
    "        \n",
    "#     return (cov2+cov2.T)/2\n",
    "\n",
    "# def logreg_gradient(y_pred, BETA):\n",
    "#     '''\n",
    "#     Computes the gradient of a logistic regression function fmodel with parameters BETA at xloc.\n",
    "#     '''\n",
    "#     d = BETA.shape[0]\n",
    "#     return np.array(y_pred*(1-y_pred)*BETA).reshape((d, 1))\n",
    "\n",
    "\n",
    "# def logreg_hessian(y_pred, BETA):\n",
    "#     '''\n",
    "#     Computes the hessian of a logistic regression function fmodel with parameters BETA at xloc.\n",
    "#     '''\n",
    "#     d = BETA.shape[0]\n",
    "#     beta_2d = np.array(BETA).reshape((d, -1))\n",
    "#     BBT = np.dot(beta_2d, beta_2d.T)\n",
    "#     return y_pred*(1-y_pred)*(1-2*y_pred)*BBT\n",
    "\n",
    "# def f_second_order_approx(y_pred, xnew, xloc, gradient, hessian):\n",
    "#     '''\n",
    "#     Second order approximation to model at xnew, a point around xloc. \n",
    "#     Relevant when assuming feature independence for both SHAP and kernelSHAP.\n",
    "#     '''\n",
    "#     if xnew.ndim==1:\n",
    "#         xnew = xnew.reshape((1,xnew.shape[0]))\n",
    "    \n",
    "#     y_pred_pred = y_pred\n",
    "#     n, d = xnew.shape\n",
    "#     if n==1:\n",
    "#         deltaX = np.array(xnew - xloc).reshape((d, -1))\n",
    "#         second_order_approx = y_pred_pred + np.dot(deltaX.T, gradient) + 0.5*np.dot(np.dot(deltaX.T, hessian), deltaX) \n",
    "#         return second_order_approx.item()\n",
    "#     else:\n",
    "#         second_order_approx = np.zeros(n)\n",
    "#         for i in range(n):\n",
    "#             deltaX_i = np.array(xnew[i,:] - xloc).reshape((d, -1))\n",
    "#             second_order_approx[i] = y_pred_pred + np.dot(deltaX_i.T, gradient) + 0.5*np.dot(np.dot(deltaX_i.T, hessian), deltaX_i)\n",
    "#         return second_order_approx\n",
    "\n",
    "\n",
    "# def compute_true_shap_cv_indep(xloc, gradient, hessian, feature_means, cov_mat, mapping_dict=None):\n",
    "#     '''\n",
    "#     Computes exact Shapley value of control variate in independent features case (second-order approximation).\n",
    "#     '''\n",
    "#     def compute_jth_shap_val(xloc, feature_means, cov_mat, j, gradient, hessian):\n",
    "#         d = xloc.shape[1]\n",
    "#         mean_j = feature_means[j]\n",
    "#         xloc_j = xloc[0,j]\n",
    "#         linear_term = gradient[j]*(xloc_j - mean_j)\n",
    "#         mean_term = -0.5*(mean_j - xloc_j) * np.sum([(feature_means[k]-xloc[0,k])*hessian[j,k] for k in range(d)])\n",
    "#         var_term = -0.5*np.sum([cov_mat[j,k]*hessian[j,k] for k in range(d)])\n",
    "#         # old_var_term = -0.5*cov_mat[j,j]*hessian[j,j]\n",
    "#         jth_shap_val = linear_term + mean_term + var_term\n",
    "#         return jth_shap_val\n",
    "\n",
    "#     d_total = xloc.shape[1]\n",
    "#     shap_vals = np.array([compute_jth_shap_val(xloc, feature_means, cov_mat, j, gradient, hessian) for j in range(d_total)])\n",
    "\n",
    "#     if mapping_dict is None:\n",
    "#         return shap_vals\n",
    "#     else:\n",
    "#         # Account for multilevel features\n",
    "#         shap_CV_true = []\n",
    "#         d = len(mapping_dict)\n",
    "#         for i in range(d):\n",
    "#             relevant_cols = mapping_dict[i]\n",
    "#             if len(relevant_cols)==1: # Not a column of a multilevel feature\n",
    "#                 shap_CV_true.append(shap_vals[relevant_cols].item())\n",
    "#             else:\n",
    "#                 shap_CV_true.append(np.sum(shap_vals[relevant_cols]))\n",
    "\n",
    "#         return np.array(shap_CV_true)\n",
    "        \n"
   ]
  },
  {
   "cell_type": "code",
   "execution_count": 5,
   "metadata": {},
   "outputs": [
    {
     "name": "stdout",
     "output_type": "stream",
     "text": [
      "Class imbalance: 72.0\n",
      "Estimation accuracy: 74.0\n"
     ]
    }
   ],
   "source": [
    "logreg = LogisticRegression().fit(X_train, y_train)\n",
    "print(\"Class imbalance: {}\".format(100*(max(np.mean(y_test), 1-np.mean(y_test)))))\n",
    "print(\"Estimation accuracy: {}\".format(np.mean((logreg.predict(X_test) > 0.5)==y_test)*100))\n",
    "\n",
    "def fmodel(x):\n",
    "    return logreg.predict_proba(x)[:,1]"
   ]
  },
  {
   "cell_type": "code",
   "execution_count": 9,
   "metadata": {},
   "outputs": [],
   "source": [
    "# Compute mean and covariance of training data\n",
    "feature_means = np.mean(X_train, axis=0)\n",
    "cov_mat = correct_cov(np.cov(X_train, rowvar=False))\n",
    "\n",
    "# Select point and compute its gradient and hessian\n",
    "xloc = X_test[0:1]\n",
    "BETA = logreg.coef_.reshape(-1)\n",
    "y_pred = fmodel(xloc)\n",
    "gradient = logreg_gradient(y_pred, BETA)\n",
    "hessian = logreg_hessian(y_pred, BETA)\n",
    "\n",
    "# Obtain true SHAP values and verify their feasibility\n",
    "true_shap_vals = compute_shap_vals_quadratic(xloc, gradient, hessian, feature_means, cov_mat, mapping_dict=mapping_dict)\n",
    "\n",
    "def model(input):\n",
    "    return f_second_order_approx(y_pred,input,xloc,gradient,hessian)\n"
   ]
  },
  {
   "cell_type": "markdown",
   "metadata": {},
   "source": [
    "## Shapley Sampling"
   ]
  },
  {
   "cell_type": "markdown",
   "metadata": {},
   "source": [
    "### Algo 1a: Keep running for all features until convergence"
   ]
  },
  {
   "cell_type": "code",
   "execution_count": 9,
   "metadata": {},
   "outputs": [
    {
     "name": "stdout",
     "output_type": "stream",
     "text": [
      "(20, 800)\n"
     ]
    }
   ],
   "source": [
    "%run shapley_sampling\n",
    "np.random.seed(1)\n",
    "K = 3\n",
    "shap_vals, diffs_all_feats = shapley_sampling_basic(model, X_train, xloc, K, \n",
    "                                                    alpha=0.05, mapping_dict=mapping_dict, K_thru_rest=False)\n",
    "print(diffs_all_feats.shape)\n"
   ]
  },
  {
   "cell_type": "markdown",
   "metadata": {},
   "source": [
    "### Algo 1b: Keep running on features that fail pairwise test"
   ]
  },
  {
   "cell_type": "markdown",
   "metadata": {},
   "source": [
    "Enormously faster. e.g. K=5, >10x faster; K=3, ~8x faster\n",
    "- This is in terms of the number of times computing $v_x(S \\cup j) - v_x(S)$"
   ]
  },
  {
   "cell_type": "code",
   "execution_count": 11,
   "metadata": {},
   "outputs": [
    {
     "name": "stdout",
     "output_type": "stream",
     "text": [
      "2300\n",
      "16000\n",
      "[19  2  0  3  1  7 11  5  4  8  6 18 12 15 13 10 14 17  9 16]\n"
     ]
    }
   ],
   "source": [
    "# np.random.seed(1)\n",
    "shap_vals2, diffs_all_feats2 = shapley_sampling_adaptive(model, X_train, xloc, K, \n",
    "                                        mapping_dict=mapping_dict, alpha=0.05, \n",
    "                                        n_perms_btwn_tests=50, n_samples_per_perm=2,\n",
    "                                        K_thru_rest=False)\n",
    "print(sum([len(diffs_all_feats2[j]) for j in range(len(diffs_all_feats2))]))\n",
    "print(np.product(diffs_all_feats.shape))\n",
    "print(np.argsort(np.abs(shap_vals2))[::-1])"
   ]
  },
  {
   "cell_type": "markdown",
   "metadata": {},
   "source": [
    "Both methods get everything right, at least on the important features"
   ]
  },
  {
   "cell_type": "code",
   "execution_count": 12,
   "metadata": {},
   "outputs": [
    {
     "name": "stdout",
     "output_type": "stream",
     "text": [
      "[19  2  0  3  1  7 11  5  4  8  6 18 12 13 15 10 17  9 16 14]\n",
      "[19  2  0  3  1  7 11  5  4  8  6 18 12 15 13 10 14 17  9 16]\n",
      "[19  2  0  3  1  7 11  5  4  8 18  6 13 15 12 10 17  9 16 14]\n"
     ]
    }
   ],
   "source": [
    "print(np.argsort(np.abs(shap_vals))[::-1])\n",
    "print(np.argsort(np.abs(shap_vals2))[::-1])\n",
    "print(np.argsort(np.abs(true_shap_vals))[::-1])"
   ]
  },
  {
   "cell_type": "code",
   "execution_count": null,
   "metadata": {},
   "outputs": [],
   "source": []
  },
  {
   "cell_type": "markdown",
   "metadata": {},
   "source": [
    "## Simulation: Adaptive Procedure controls FWER!\n",
    "Using alpha = 0.2 throughout. Expect ≤ 20% FWER.\n",
    "#### K=3\n",
    "Running 100x (takes 30 seconds)\n",
    "- Only testing order of top-K: 13% FWER\n",
    "- Also testing K vs K+1, K+2, ...: 11% FWER\n",
    "\n",
    "Also ran with alpha = 0.05 (expect 5% FWER): Observed 4% FWER\n",
    "- Again, slight benefit from also testing K vs K+1 through d. Used throughout.\n",
    "#### K=5: only ~5% FWER\n",
    "#### K=10: 12% FWER\n",
    "- takes 1.5 mins"
   ]
  },
  {
   "cell_type": "code",
   "execution_count": 109,
   "metadata": {},
   "outputs": [
    {
     "name": "stdout",
     "output_type": "stream",
     "text": [
      "10 0.7\n",
      "20 0.8\n",
      "30 0.8\n",
      "40 0.85\n",
      "50 0.86\n",
      "60 0.8833333333333333\n",
      "70 0.8857142857142857\n",
      "80 0.8875\n",
      "90 0.8777777777777778\n",
      "100 0.88\n"
     ]
    },
    {
     "data": {
      "text/plain": [
       "0.88"
      ]
     },
     "execution_count": 109,
     "metadata": {},
     "output_type": "execute_result"
    }
   ],
   "source": [
    "%run shapley_sampling\n",
    "np.random.seed(2)\n",
    "K = 10\n",
    "true_order = np.argsort(np.abs(true_shap_vals))[::-1]\n",
    "true_top_K = true_order[:K]\n",
    "same_top_K = []\n",
    "for i in range(100):\n",
    "    shap_vals2, diffs_all_feats2 = shapley_sampling_adaptive(model, X_train, xloc, K, \n",
    "                                        mapping_dict=mapping_dict, alpha=0.2, \n",
    "                                        n_perms_btwn_tests=50, n_samples_per_perm=2,\n",
    "                                        K_thru_rest=False)\n",
    "    est_top_K = np.argsort(np.abs(shap_vals2))[::-1][:K]\n",
    "    has_same_top_K = np.array_equal(true_top_K, est_top_K)\n",
    "    same_top_K.append(has_same_top_K)\n",
    "    if (i+1) % 10==0: print(i+1, np.mean(same_top_K))\n",
    "np.mean(same_top_K)"
   ]
  },
  {
   "cell_type": "code",
   "execution_count": null,
   "metadata": {},
   "outputs": [],
   "source": []
  },
  {
   "cell_type": "markdown",
   "metadata": {},
   "source": [
    "### Show validity of null distribution\n",
    "- Test statistic under null - that means are the same, so we can randomly permute - is indeed t-distributed\n",
    "\n",
    "        - Not sure if this is OK to do, since variances aren't the same so under the null the distributions still aren't identical"
   ]
  },
  {
   "cell_type": "code",
   "execution_count": 81,
   "metadata": {},
   "outputs": [],
   "source": [
    "%run shapley_sampling\n",
    "np.random.seed(1)\n",
    "n_subsets = 200\n",
    "diffs_all_feats = compute_diffs_all_feats(model, X_train, xloc, n_subsets, mapping_dict=mapping_dict, n_samples_per_perm=2)\n",
    "shap_ests = [np.mean(diffs_all_feats[j]) for j in range(d)]\n",
    "order = get_ordering(shap_ests)\n",
    "\n",
    "feat1 = diffs_all_feats[int(order[0])]\n",
    "feat2 = diffs_all_feats[int(order[1])]\n",
    "if np.mean(feat1)*np.mean(feat2) < 0:\n",
    "    if isinstance(feat2, np.ndarray): feat2 = -feat2\n",
    "    else: feat2 = [-feat2[j] for j in range(d)]\n",
    "test_stat = ttest_ind(feat1, feat2, equal_var=False)[0]\n",
    "\n",
    "both = np.concatenate((feat1, feat2))\n",
    "test_stats_perm = []\n",
    "for _ in range(1000):\n",
    "    random_order = np.random.choice(n_subsets*2, size=n_subsets*2, replace=False)\n",
    "    feat1_perm = both[random_order[:n_subsets]]\n",
    "    feat2_perm = both[random_order[n_subsets:]]\n",
    "    test_stats_perm.append(ttest_ind(feat1_perm, feat2_perm, equal_var=False)[0])"
   ]
  },
  {
   "cell_type": "code",
   "execution_count": 103,
   "metadata": {},
   "outputs": [
    {
     "name": "stdout",
     "output_type": "stream",
     "text": [
      "358.5337161164116\n"
     ]
    },
    {
     "data": {
      "image/png": "[encoded data removed]",
      "text/plain": [
       "<Figure size 640x480 with 1 Axes>"
      ]
     },
     "metadata": {},
     "output_type": "display_data"
    }
   ],
   "source": [
    "xs = np.arange(-4, 4, 0.1)\n",
    "\n",
    "var1, var2 = np.var(feat1, ddof=1), np.var(feat2, ddof=1)\n",
    "df = (n_subsets-1)*(var1 + var2)**2 / (var1**2 + var2**2)\n",
    "print(df)\n",
    "ys = t.pdf(xs, df=df)\n",
    "\n",
    "plt.hist(test_stats_perm, density=True)\n",
    "plt.plot(xs, ys)\n",
    "plt.title(\"Null distribution of test statistic\")\n",
    "plt.axvline(test_stat)\n",
    "plt.show()"
   ]
  },
  {
   "cell_type": "code",
   "execution_count": null,
   "metadata": {},
   "outputs": [],
   "source": []
  }
 ],
 "metadata": {
  "interpreter": {
   "hash": "768407c71a286f507fab4bce553d71b5cbd766c247b76eb598ef769225202bc3"
  },
  "kernelspec": {
   "display_name": "Python 3.9.16 ('shap')",
   "language": "python",
   "name": "python3"
  },
  "language_info": {
   "codemirror_mode": {
    "name": "ipython",
    "version": 3
   },
   "file_extension": ".py",
   "mimetype": "text/x-python",
   "name": "python",
   "nbconvert_exporter": "python",
   "pygments_lexer": "ipython3",
   "version": "3.9.16"
  },
  "orig_nbformat": 4
 },
 "nbformat": 4,
 "nbformat_minor": 2
}
