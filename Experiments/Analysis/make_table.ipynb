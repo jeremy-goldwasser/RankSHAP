{
 "cells": [
  {
   "cell_type": "code",
   "execution_count": 2,
   "metadata": {},
   "outputs": [],
   "source": [
    "import numpy as np\n",
    "import pickle\n",
    "import pathlib\n",
    "\n",
    "from os.path import join\n",
    "path_to_file = str(pathlib.Path().resolve())\n",
    "dir_path = join(path_to_file, \"../../\")\n",
    "import warnings\n",
    "warnings.filterwarnings('ignore')\n",
    "\n",
    "import sys\n",
    "sys.path.append(join(dir_path, \"HelperFiles\"))\n",
    "from load_data import *\n"
   ]
  },
  {
   "cell_type": "code",
   "execution_count": 5,
   "metadata": {},
   "outputs": [
    {
     "data": {
      "text/plain": [
       "array([0., 0., 0., 0., 0., 0., 0., 0., 0., 0.])"
      ]
     },
     "execution_count": 5,
     "metadata": {},
     "output_type": "execute_result"
    }
   ],
   "source": [
    "method = \"lime\"\n",
    "dataset = \"breast_cancer\"\n",
    "K = 3\n",
    "fname = method + \"_\" + dataset + \"_K\" + str(K) + \"_fwers\"\n",
    "with open(join(dir_path, \"Experiments\", \"Results\", \"alpha0.2\", fname), \"rb\") as fp:\n",
    "        fwers_dict = pickle.load(fp)\n",
    "fwers = np.array(list(fwers_dict.values()))\n",
    "np.round(fwers*100)"
   ]
  },
  {
   "cell_type": "code",
   "execution_count": 7,
   "metadata": {},
   "outputs": [
    {
     "name": "stdout",
     "output_type": "stream",
     "text": [
      "SHAP\n",
      "Average FWER\n",
      "[[ 6.  1.  3.  2.  1.]\n",
      " [ 3.  7. 10. 14.  6.]]\n",
      "Proportion of FWERs below alpha\n",
      "[[1.  1.  1.  1.  1. ]\n",
      " [1.  0.9 0.8 0.8 1. ]]\n"
     ]
    }
   ],
   "source": [
    "methods = [\"shap\", \"lime\"]\n",
    "Ks = [3, 7]\n",
    "datasets = [\"bank\", \"brca\", \"breast_cancer\", \"census\", \"credit\"]\n",
    "\n",
    "method = methods[0]\n",
    "avg_mat = np.empty((len(Ks), len(datasets)))\n",
    "control_mat = np.empty((len(Ks), len(datasets)))\n",
    "for i, K in enumerate(Ks):\n",
    "    for j, dataset in enumerate(datasets):\n",
    "        fname = method + \"_\" + dataset + \"_K\" + str(K) + \"_fwers\"\n",
    "        with open(join(dir_path, \"Experiments\", \"Results\", \"alpha0.2\", fname), \"rb\") as fp:\n",
    "                fwers_dict = pickle.load(fp)\n",
    "        fwers = np.array(list(fwers_dict.values()))\n",
    "        avg_fwer = np.mean(fwers)\n",
    "        avg_mat[i, j] = np.round(avg_fwer*100)\n",
    "        prop_fwer_control = np.mean(fwers < 0.2)\n",
    "        control_mat[i, j] = prop_fwer_control #np.round(prop_fwer_control*100)\n",
    "\n",
    "\n",
    "# import pandas as pd\n",
    "# pd.DataFrame(avg_mat).astype('Int64')\n",
    "print(method.upper())\n",
    "print(\"Average FWER\")\n",
    "print(avg_mat)\n",
    "print(\"Proportion of FWERs below alpha\")\n",
    "print(control_mat)"
   ]
  },
  {
   "cell_type": "code",
   "execution_count": 8,
   "metadata": {},
   "outputs": [
    {
     "name": "stdout",
     "output_type": "stream",
     "text": [
      "bank\n",
      "45211 16\n",
      "brca\n",
      "572 20\n",
      "breast_cancer\n",
      "569 30\n",
      "census\n",
      "32561 12\n",
      "credit\n",
      "1000 20\n"
     ]
    }
   ],
   "source": [
    "for dataset in datasets:\n",
    "    X_train, y_train, X_test, y_test, mapping_dict = load_data(join(dir_path, \"Experiments\", \"Data\"), dataset)\n",
    "    N = y_train.shape[0] + y_test.shape[0]\n",
    "    D = X_train.shape[1] if mapping_dict is None else len(mapping_dict)\n",
    "    print(dataset)\n",
    "    print(N, D)\n",
    "\n"
   ]
  },
  {
   "cell_type": "code",
   "execution_count": null,
   "metadata": {},
   "outputs": [],
   "source": []
  }
 ],
 "metadata": {
  "interpreter": {
   "hash": "768407c71a286f507fab4bce553d71b5cbd766c247b76eb598ef769225202bc3"
  },
  "kernelspec": {
   "display_name": "Python 3.9.16 ('shap')",
   "language": "python",
   "name": "python3"
  },
  "language_info": {
   "codemirror_mode": {
    "name": "ipython",
    "version": 3
   },
   "file_extension": ".py",
   "mimetype": "text/x-python",
   "name": "python",
   "nbconvert_exporter": "python",
   "pygments_lexer": "ipython3",
   "version": "3.9.16"
  },
  "orig_nbformat": 4
 },
 "nbformat": 4,
 "nbformat_minor": 2
}
