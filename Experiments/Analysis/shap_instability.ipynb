{
 "cells": [
  {
   "cell_type": "code",
   "execution_count": 7,
   "metadata": {},
   "outputs": [],
   "source": [
    "import numpy as np\n",
    "import matplotlib.pyplot as plt\n",
    "from sklearn.linear_model import LogisticRegression\n",
    "from sklearn.datasets import load_breast_cancer\n",
    "\n",
    "import sys\n",
    "import pathlib\n",
    "from os.path import join\n",
    "path_to_file = str(pathlib.Path().resolve())\n",
    "dir_path = join(path_to_file, \"../../\")\n",
    "sys.path.append(join(dir_path, \"HelperFiles\"))\n",
    "from helper import *\n",
    "from load_data import *\n",
    "from train_models import *\n",
    "from rankshap import *\n",
    "import warnings\n",
    "warnings.filterwarnings('ignore')\n",
    "import shap\n",
    "data_path = join(dir_path, \"Experiments\", \"Data\")"
   ]
  },
  {
   "cell_type": "code",
   "execution_count": 8,
   "metadata": {},
   "outputs": [],
   "source": [
    "# breast_cancer = load_breast_cancer()\n",
    "# colnames = breast_cancer.feature_names\n",
    "# X = breast_cancer['data']\n",
    "# Y = breast_cancer['target']\n",
    "# n = Y.shape[0]\n",
    "# X_train, X_test, y_train, y_test = train_test_split(X, Y, test_size=int(n*.25), random_state=0)\n",
    "X_train, y_train, X_test, y_test, mapping_dict = load_data(data_path, \"breast_cancer\")"
   ]
  },
  {
   "cell_type": "code",
   "execution_count": 9,
   "metadata": {},
   "outputs": [
    {
     "name": "stdout",
     "output_type": "stream",
     "text": [
      "171 0.631578947368421\n",
      "94% accuracy\n"
     ]
    }
   ],
   "source": [
    "d = X_train.shape[1]\n",
    "print(len(y_test), np.mean(y_test))\n",
    "model = train_rf(X_train, y_train)\n",
    "\n",
    "y_preds = (model(X_test) > 0.5).astype(\"int\")\n",
    "print(\"{}% accuracy\".format(round(np.mean(y_preds == y_test)*100)))"
   ]
  },
  {
   "cell_type": "code",
   "execution_count": 10,
   "metadata": {},
   "outputs": [],
   "source": [
    "# xloc = X_test[0:1]\n",
    "# rankshap_vals, _, converged = rankshap(model, X_train, xloc, K=2, alpha=0.2, abs=False, n_samples_per_perm=1, max_n_perms=500)\n",
    "\n",
    "# kmeans = shap.kmeans(X_train, 30)\n",
    "# explainer = shap.KernelExplainer(model, kmeans)\n",
    "# kshap_values = explainer.shap_values(xloc, nsamples=500*d)\n",
    "# print(get_ranking(kshap_values))\n",
    "# print((kshap_values)) # Huh. sparse\n",
    "\n",
    "# explainer2 = shap.SamplingExplainer(model, kmeans)\n",
    "# shap_values = explainer2.shap_values(xloc, nsamples=500*d)\n",
    "# print(get_ranking(shap_values))\n",
    "# print((shap_values))\n"
   ]
  },
  {
   "cell_type": "code",
   "execution_count": null,
   "metadata": {},
   "outputs": [],
   "source": []
  },
  {
   "cell_type": "code",
   "execution_count": null,
   "metadata": {},
   "outputs": [],
   "source": []
  },
  {
   "cell_type": "markdown",
   "metadata": {},
   "source": [
    "## Run many times"
   ]
  },
  {
   "cell_type": "code",
   "execution_count": 11,
   "metadata": {},
   "outputs": [
    {
     "name": "stdout",
     "output_type": "stream",
     "text": [
      "5\n",
      "10\n",
      "15\n",
      "20\n",
      "25\n"
     ]
    }
   ],
   "source": [
    "np.random.seed(1)\n",
    "x_idx = 1\n",
    "xloc = X_test[x_idx]\n",
    "N_runs = 25\n",
    "kmeans = shap.kmeans(X_train, 10)\n",
    "shap_vals_all = []\n",
    "explainer = shap.SamplingExplainer(model, kmeans)\n",
    "for i in range(N_runs):\n",
    "    # shap_vals = shapley_sampling(model, X_train, xloc, n_perms=100)\n",
    "    shap_vals = explainer.shap_values(xloc, nsamples=500*d)\n",
    "    shap_vals_all.append(shap_vals)\n",
    "    if (i+1)%5==0:print(i+1)\n"
   ]
  },
  {
   "cell_type": "code",
   "execution_count": 17,
   "metadata": {},
   "outputs": [
    {
     "name": "stdout",
     "output_type": "stream",
     "text": [
      "5\n",
      "10\n",
      "15\n",
      "20\n",
      "25\n"
     ]
    }
   ],
   "source": [
    "np.random.seed(1)\n",
    "kshap_vals_all = []\n",
    "explainer = shap.KernelExplainer(model, kmeans)\n",
    "for i in range(N_runs):\n",
    "    kshap_values = explainer.shap_values(xloc, nsamples=500*d, silent=True)\n",
    "    kshap_vals_all.append(kshap_values)\n",
    "    if (i+1)%5==0:print(i+1)\n"
   ]
  },
  {
   "cell_type": "code",
   "execution_count": 35,
   "metadata": {},
   "outputs": [
    {
     "name": "stdout",
     "output_type": "stream",
     "text": [
      "22\n",
      "27\n",
      "7\n",
      "24\n",
      "26\n",
      "[1.0, 1.0, 1.0, 0.96, 0.84]\n",
      "14\n",
      "18\n",
      "3\n",
      "5\n",
      "16\n",
      "[1.0, 0.88, 0.88, 0.88, 0.8]\n"
     ]
    }
   ],
   "source": [
    "order_ss = [get_ranking(shap_values, abs=False) for shap_values in shap_vals_all]\n",
    "order_kshap = [get_ranking(kshap_values, abs=False) for kshap_values in kshap_vals_all]\n",
    "\n",
    "K = 5\n",
    "# cols_ss = []\n",
    "freqs_ss = []\n",
    "top_K_ss = np.array(order_ss)[:,:K]\n",
    "for k in range(K):\n",
    "    most_common = np.argmax(np.bincount(top_K_ss[:,k]))\n",
    "    # cols_ss.append(colnames[most_common])\n",
    "    print(most_common) # Verify they're unique\n",
    "    freqs_ss.append(np.mean(top_K_ss[:,k]==most_common))\n",
    "print(freqs_ss)\n",
    "\n",
    "# cols_kshap = []\n",
    "freqs_kshap = []\n",
    "top_K_kshap = np.array(order_kshap)[:,:K]\n",
    "for k in range(K):\n",
    "    most_common = np.argmax(np.bincount(top_K_kshap[:,k]))\n",
    "    # cols_kshap.append(most_common)\n",
    "    # cols_kshap.append(colnames[most_common])\n",
    "    print(most_common) # Verify they're unique\n",
    "    freqs_kshap.append(np.mean(top_K_kshap[:,k]==most_common))\n",
    "print(freqs_kshap)\n"
   ]
  },
  {
   "cell_type": "code",
   "execution_count": 36,
   "metadata": {},
   "outputs": [],
   "source": [
    "# plt.figure(figsize=(10,6))\n",
    "# width = 0.3       \n",
    "\n",
    "# # Plotting\n",
    "# onetoK = np.arange(K)+1\n",
    "# plt.bar(onetoK, freqs_ss , width, label='Shapley Sampling')\n",
    "# plt.bar(onetoK + width, freqs_kshap, width, label='KernelSHAP')\n",
    "\n",
    "# plt.xlabel('SHAP Ranking', size=13)\n",
    "# plt.ylabel('Selection Frequency', size=13)\n",
    "# plt.title('Frequency of Top-K SHAP Rankings', size=15)\n",
    "\n",
    "# order = [\"1st\", \"2nd\", \"3rd\", \"4th\", \"5th\"]\n",
    "# plt.xticks(onetoK + width / 2, order)\n",
    "\n",
    "# plt.legend(loc='upper right', prop={'size': 12})\n",
    "# # plt.savefig(join(dir_path, \"Experiments\", \"Figures\", \"shap_instability.png\"), bbox_inches=\"tight\")\n",
    "# plt.show()\n"
   ]
  },
  {
   "cell_type": "code",
   "execution_count": null,
   "metadata": {},
   "outputs": [],
   "source": []
  },
  {
   "cell_type": "code",
   "execution_count": 15,
   "metadata": {},
   "outputs": [
    {
     "ename": "KeyboardInterrupt",
     "evalue": "",
     "output_type": "error",
     "traceback": [
      "\u001b[0;31m---------------------------------------------------------------------------\u001b[0m",
      "\u001b[0;31mAttributeError\u001b[0m                            Traceback (most recent call last)",
      "File \u001b[0;32m~/opt/anaconda3/envs/shap/lib/python3.9/site-packages/numpy/core/fromnumeric.py:75\u001b[0m, in \u001b[0;36m_wrapreduction\u001b[0;34m(obj, ufunc, method, axis, dtype, out, **kwargs)\u001b[0m\n\u001b[1;32m     <a href='file:///Users/jeremygoldwasser/opt/anaconda3/envs/shap/lib/python3.9/site-packages/numpy/core/fromnumeric.py?line=73'>74</a>\u001b[0m \u001b[39mtry\u001b[39;00m:\n\u001b[0;32m---> <a href='file:///Users/jeremygoldwasser/opt/anaconda3/envs/shap/lib/python3.9/site-packages/numpy/core/fromnumeric.py?line=74'>75</a>\u001b[0m     reduction \u001b[39m=\u001b[39m \u001b[39mgetattr\u001b[39;49m(obj, method)\n\u001b[1;32m     <a href='file:///Users/jeremygoldwasser/opt/anaconda3/envs/shap/lib/python3.9/site-packages/numpy/core/fromnumeric.py?line=75'>76</a>\u001b[0m \u001b[39mexcept\u001b[39;00m \u001b[39mAttributeError\u001b[39;00m:\n",
      "\u001b[0;31mAttributeError\u001b[0m: 'int' object has no attribute 'prod'",
      "\nDuring handling of the above exception, another exception occurred:\n",
      "\u001b[0;31mKeyboardInterrupt\u001b[0m                         Traceback (most recent call last)",
      "Cell \u001b[0;32mIn[15], line 7\u001b[0m\n\u001b[1;32m      5\u001b[0m ct \u001b[38;5;241m=\u001b[39m \u001b[38;5;241m0\u001b[39m\n\u001b[1;32m      6\u001b[0m \u001b[38;5;28;01mwhile\u001b[39;00m \u001b[38;5;28mlen\u001b[39m(rankshap_vals_all) \u001b[38;5;241m<\u001b[39m N_runs:\n\u001b[0;32m----> 7\u001b[0m     rankshap_vals, _, converged \u001b[38;5;241m=\u001b[39m \u001b[43mrankshap\u001b[49m\u001b[43m(\u001b[49m\u001b[43mmodel\u001b[49m\u001b[43m,\u001b[49m\u001b[43m \u001b[49m\u001b[43mX_train\u001b[49m\u001b[43m,\u001b[49m\u001b[43m \u001b[49m\u001b[43mxloc\u001b[49m\u001b[43m,\u001b[49m\u001b[43m \u001b[49m\u001b[43mK\u001b[49m\u001b[38;5;241;43m=\u001b[39;49m\u001b[38;5;241;43m5\u001b[39;49m\u001b[43m,\u001b[49m\u001b[43m \u001b[49m\u001b[43malpha\u001b[49m\u001b[38;5;241;43m=\u001b[39;49m\u001b[38;5;241;43m0.2\u001b[39;49m\u001b[43m,\u001b[49m\u001b[43m \u001b[49m\u001b[38;5;28;43mabs\u001b[39;49m\u001b[38;5;241;43m=\u001b[39;49m\u001b[38;5;28;43;01mFalse\u001b[39;49;00m\u001b[43m,\u001b[49m\u001b[43m \u001b[49m\u001b[43mn_samples_per_perm\u001b[49m\u001b[38;5;241;43m=\u001b[39;49m\u001b[38;5;241;43m10\u001b[39;49m\u001b[43m,\u001b[49m\u001b[43m \u001b[49m\u001b[43mmax_n_perms\u001b[49m\u001b[38;5;241;43m=\u001b[39;49m\u001b[38;5;241;43m500\u001b[39;49m\u001b[43m)\u001b[49m\n\u001b[1;32m      8\u001b[0m     rankshap_vals_all\u001b[38;5;241m.\u001b[39mappend(rankshap_vals)\n\u001b[1;32m      9\u001b[0m     \u001b[38;5;66;03m# if converged:\u001b[39;00m\n\u001b[1;32m     10\u001b[0m     \u001b[38;5;66;03m#     rankshap_vals_all.append(rankshap_vals)\u001b[39;00m\n",
      "File \u001b[0;32m~/Desktop/RankSHAP/Experiments/Analysis/../../HelperFiles/rankshap.py:187\u001b[0m, in \u001b[0;36mrankshap\u001b[0;34m(model, X, xloc, K, alpha, mapping_dict, n_samples_per_perm, n_init, max_n_perms, n_equal, buffer, abs)\u001b[0m\n\u001b[1;32m    <a href='file:///Users/jeremygoldwasser/Desktop/RankSHAP/Experiments/Analysis/../../HelperFiles/rankshap.py?line=183'>184</a>\u001b[0m j_idx \u001b[39m=\u001b[39m np\u001b[39m.\u001b[39margwhere(perm\u001b[39m==\u001b[39mj)\u001b[39m.\u001b[39mitem()\n\u001b[1;32m    <a href='file:///Users/jeremygoldwasser/Desktop/RankSHAP/Experiments/Analysis/../../HelperFiles/rankshap.py?line=184'>185</a>\u001b[0m S \u001b[39m=\u001b[39m np\u001b[39m.\u001b[39marray(perm[:j_idx])\n\u001b[0;32m--> <a href='file:///Users/jeremygoldwasser/Desktop/RankSHAP/Experiments/Analysis/../../HelperFiles/rankshap.py?line=186'>187</a>\u001b[0m tw_vals, twj_vals \u001b[39m=\u001b[39m query_values_marginal(X, xloc, S, j, mapping_dict, n_samples_per_perm)\n\u001b[1;32m    <a href='file:///Users/jeremygoldwasser/Desktop/RankSHAP/Experiments/Analysis/../../HelperFiles/rankshap.py?line=187'>188</a>\u001b[0m w_vals\u001b[39m.\u001b[39mappend(tw_vals)\n\u001b[1;32m    <a href='file:///Users/jeremygoldwasser/Desktop/RankSHAP/Experiments/Analysis/../../HelperFiles/rankshap.py?line=188'>189</a>\u001b[0m wj_vals\u001b[39m.\u001b[39mappend(twj_vals)\n",
      "File \u001b[0;32m~/Desktop/RankSHAP/Experiments/Analysis/../../HelperFiles/rankshap.py:96\u001b[0m, in \u001b[0;36mquery_values_marginal\u001b[0;34m(X, xloc, S, j, mapping_dict, n_samples_per_perm)\u001b[0m\n\u001b[1;32m     <a href='file:///Users/jeremygoldwasser/Desktop/RankSHAP/Experiments/Analysis/../../HelperFiles/rankshap.py?line=91'>92</a>\u001b[0m wj_vals \u001b[39m=\u001b[39m []\n\u001b[1;32m     <a href='file:///Users/jeremygoldwasser/Desktop/RankSHAP/Experiments/Analysis/../../HelperFiles/rankshap.py?line=93'>94</a>\u001b[0m \u001b[39mfor\u001b[39;00m _ \u001b[39min\u001b[39;00m \u001b[39mrange\u001b[39m(n_samples_per_perm):\n\u001b[1;32m     <a href='file:///Users/jeremygoldwasser/Desktop/RankSHAP/Experiments/Analysis/../../HelperFiles/rankshap.py?line=94'>95</a>\u001b[0m     \u001b[39m# Sample \"unknown\" features from a dataset sample z\u001b[39;00m\n\u001b[0;32m---> <a href='file:///Users/jeremygoldwasser/Desktop/RankSHAP/Experiments/Analysis/../../HelperFiles/rankshap.py?line=95'>96</a>\u001b[0m     z \u001b[39m=\u001b[39m X[np\u001b[39m.\u001b[39;49mrandom\u001b[39m.\u001b[39;49mchoice(n, size\u001b[39m=\u001b[39;49m\u001b[39m1\u001b[39;49m),:]\n\u001b[1;32m     <a href='file:///Users/jeremygoldwasser/Desktop/RankSHAP/Experiments/Analysis/../../HelperFiles/rankshap.py?line=96'>97</a>\u001b[0m     w_x_s, w_x_s_j \u001b[39m=\u001b[39m np\u001b[39m.\u001b[39mcopy(xloc), np\u001b[39m.\u001b[39mcopy(xloc)\n\u001b[1;32m     <a href='file:///Users/jeremygoldwasser/Desktop/RankSHAP/Experiments/Analysis/../../HelperFiles/rankshap.py?line=97'>98</a>\u001b[0m     w_x_s[\u001b[39m0\u001b[39m][Sc] \u001b[39m=\u001b[39m z[\u001b[39m0\u001b[39m][Sc]\n",
      "File \u001b[0;32mmtrand.pyx:946\u001b[0m, in \u001b[0;36mnumpy.random.mtrand.RandomState.choice\u001b[0;34m()\u001b[0m\n",
      "File \u001b[0;32m<__array_function__ internals>:180\u001b[0m, in \u001b[0;36mprod\u001b[0;34m(*args, **kwargs)\u001b[0m\n",
      "File \u001b[0;32m~/opt/anaconda3/envs/shap/lib/python3.9/site-packages/numpy/core/fromnumeric.py:3045\u001b[0m, in \u001b[0;36mprod\u001b[0;34m(a, axis, dtype, out, keepdims, initial, where)\u001b[0m\n\u001b[1;32m   <a href='file:///Users/jeremygoldwasser/opt/anaconda3/envs/shap/lib/python3.9/site-packages/numpy/core/fromnumeric.py?line=2926'>2927</a>\u001b[0m \u001b[39m@array_function_dispatch\u001b[39m(_prod_dispatcher)\n\u001b[1;32m   <a href='file:///Users/jeremygoldwasser/opt/anaconda3/envs/shap/lib/python3.9/site-packages/numpy/core/fromnumeric.py?line=2927'>2928</a>\u001b[0m \u001b[39mdef\u001b[39;00m \u001b[39mprod\u001b[39m(a, axis\u001b[39m=\u001b[39m\u001b[39mNone\u001b[39;00m, dtype\u001b[39m=\u001b[39m\u001b[39mNone\u001b[39;00m, out\u001b[39m=\u001b[39m\u001b[39mNone\u001b[39;00m, keepdims\u001b[39m=\u001b[39mnp\u001b[39m.\u001b[39m_NoValue,\n\u001b[1;32m   <a href='file:///Users/jeremygoldwasser/opt/anaconda3/envs/shap/lib/python3.9/site-packages/numpy/core/fromnumeric.py?line=2928'>2929</a>\u001b[0m          initial\u001b[39m=\u001b[39mnp\u001b[39m.\u001b[39m_NoValue, where\u001b[39m=\u001b[39mnp\u001b[39m.\u001b[39m_NoValue):\n\u001b[1;32m   <a href='file:///Users/jeremygoldwasser/opt/anaconda3/envs/shap/lib/python3.9/site-packages/numpy/core/fromnumeric.py?line=2929'>2930</a>\u001b[0m     \u001b[39m\"\"\"\u001b[39;00m\n\u001b[1;32m   <a href='file:///Users/jeremygoldwasser/opt/anaconda3/envs/shap/lib/python3.9/site-packages/numpy/core/fromnumeric.py?line=2930'>2931</a>\u001b[0m \u001b[39m    Return the product of array elements over a given axis.\u001b[39;00m\n\u001b[1;32m   <a href='file:///Users/jeremygoldwasser/opt/anaconda3/envs/shap/lib/python3.9/site-packages/numpy/core/fromnumeric.py?line=2931'>2932</a>\u001b[0m \n\u001b[0;32m   (...)\u001b[0m\n\u001b[1;32m   <a href='file:///Users/jeremygoldwasser/opt/anaconda3/envs/shap/lib/python3.9/site-packages/numpy/core/fromnumeric.py?line=3042'>3043</a>\u001b[0m \u001b[39m    10\u001b[39;00m\n\u001b[1;32m   <a href='file:///Users/jeremygoldwasser/opt/anaconda3/envs/shap/lib/python3.9/site-packages/numpy/core/fromnumeric.py?line=3043'>3044</a>\u001b[0m \u001b[39m    \"\"\"\u001b[39;00m\n\u001b[0;32m-> <a href='file:///Users/jeremygoldwasser/opt/anaconda3/envs/shap/lib/python3.9/site-packages/numpy/core/fromnumeric.py?line=3044'>3045</a>\u001b[0m     \u001b[39mreturn\u001b[39;00m _wrapreduction(a, np\u001b[39m.\u001b[39;49mmultiply, \u001b[39m'\u001b[39;49m\u001b[39mprod\u001b[39;49m\u001b[39m'\u001b[39;49m, axis, dtype, out,\n\u001b[1;32m   <a href='file:///Users/jeremygoldwasser/opt/anaconda3/envs/shap/lib/python3.9/site-packages/numpy/core/fromnumeric.py?line=3045'>3046</a>\u001b[0m                           keepdims\u001b[39m=\u001b[39;49mkeepdims, initial\u001b[39m=\u001b[39;49minitial, where\u001b[39m=\u001b[39;49mwhere)\n",
      "File \u001b[0;32m~/opt/anaconda3/envs/shap/lib/python3.9/site-packages/numpy/core/fromnumeric.py:75\u001b[0m, in \u001b[0;36m_wrapreduction\u001b[0;34m(obj, ufunc, method, axis, dtype, out, **kwargs)\u001b[0m\n\u001b[1;32m     <a href='file:///Users/jeremygoldwasser/opt/anaconda3/envs/shap/lib/python3.9/site-packages/numpy/core/fromnumeric.py?line=72'>73</a>\u001b[0m \u001b[39mif\u001b[39;00m \u001b[39mtype\u001b[39m(obj) \u001b[39mis\u001b[39;00m \u001b[39mnot\u001b[39;00m mu\u001b[39m.\u001b[39mndarray:\n\u001b[1;32m     <a href='file:///Users/jeremygoldwasser/opt/anaconda3/envs/shap/lib/python3.9/site-packages/numpy/core/fromnumeric.py?line=73'>74</a>\u001b[0m     \u001b[39mtry\u001b[39;00m:\n\u001b[0;32m---> <a href='file:///Users/jeremygoldwasser/opt/anaconda3/envs/shap/lib/python3.9/site-packages/numpy/core/fromnumeric.py?line=74'>75</a>\u001b[0m         reduction \u001b[39m=\u001b[39m \u001b[39mgetattr\u001b[39;49m(obj, method)\n\u001b[1;32m     <a href='file:///Users/jeremygoldwasser/opt/anaconda3/envs/shap/lib/python3.9/site-packages/numpy/core/fromnumeric.py?line=75'>76</a>\u001b[0m     \u001b[39mexcept\u001b[39;00m \u001b[39mAttributeError\u001b[39;00m:\n\u001b[1;32m     <a href='file:///Users/jeremygoldwasser/opt/anaconda3/envs/shap/lib/python3.9/site-packages/numpy/core/fromnumeric.py?line=76'>77</a>\u001b[0m         \u001b[39mpass\u001b[39;00m\n",
      "\u001b[0;31mKeyboardInterrupt\u001b[0m: "
     ]
    }
   ],
   "source": [
    "np.random.seed(1)\n",
    "xloc = X_test[x_idx:(x_idx+1)]\n",
    "rankshap_vals_all = []\n",
    "explainer = shap.KernelExplainer(model, kmeans)\n",
    "ct = 0\n",
    "while len(rankshap_vals_all) < N_runs:\n",
    "    rankshap_vals, _, converged = rankshap(model, X_train, xloc, K=5, alpha=0.2, abs=False, n_samples_per_perm=10, max_n_perms=500)\n",
    "    rankshap_vals_all.append(rankshap_vals)\n",
    "    # if converged:\n",
    "    #     rankshap_vals_all.append(rankshap_vals)\n",
    "    ct += 1\n",
    "    if ct%5==0:print(ct)#, len(rankshap_vals_all))\n"
   ]
  },
  {
   "cell_type": "code",
   "execution_count": null,
   "metadata": {},
   "outputs": [
    {
     "name": "stdout",
     "output_type": "stream",
     "text": [
      "22\n",
      "13\n",
      "2\n",
      "17\n",
      "0\n",
      "[1.0, 1.0, 1.0, 1.0, 0.88]\n"
     ]
    }
   ],
   "source": [
    "order_rs = [get_ranking(shap_values, abs=False) for shap_values in rankshap_vals_all]\n",
    "\n",
    "K = 5\n",
    "# cols_rs = []\n",
    "freqs_rs = []\n",
    "top_K_rs = np.array(order_rs)[:,:K]\n",
    "for k in range(K):\n",
    "    most_common = np.argmax(np.bincount(top_K_rs[:,k]))\n",
    "    # cols_rs.append(colnames[most_common])\n",
    "    print(most_common) # Verify they're unique\n",
    "    freqs_rs.append(np.mean(top_K_rs[:,k]==most_common))\n",
    "print(freqs_rs)"
   ]
  },
  {
   "cell_type": "code",
   "execution_count": null,
   "metadata": {},
   "outputs": [
    {
     "data": {
      "image/png": "[encoded data removed]",
      "text/plain": [
       "<Figure size 1000x600 with 1 Axes>"
      ]
     },
     "metadata": {},
     "output_type": "display_data"
    }
   ],
   "source": [
    "plt.figure(figsize=(10,6))\n",
    "width = 0.25\n",
    "\n",
    "onetoK = np.arange(K)+1\n",
    "plt.bar(onetoK-width, freqs_ss , width, label='Shapley Sampling')\n",
    "plt.bar(onetoK, freqs_kshap , width, label='KernelSHAP')\n",
    "plt.bar(onetoK + width, freqs_rs, width, label='RankSHAP')\n",
    "\n",
    "plt.xlabel('SHAP Ranking', size=13)\n",
    "plt.ylabel('Selection Frequency', size=13)\n",
    "plt.title('Frequency of Top-5 SHAP Rankings', size=15)\n",
    "\n",
    "order = [\"1st\", \"2nd\", \"3rd\", \"4th\", \"5th\"]\n",
    "plt.xticks(onetoK, order)\n",
    "\n",
    "plt.legend(loc='center right', prop={'size': 12})\n",
    "plt.savefig(join(dir_path, \"Experiments\", \"Figures\", \"shap_instability.png\"), bbox_inches=\"tight\")\n",
    "plt.show()\n"
   ]
  },
  {
   "cell_type": "code",
   "execution_count": null,
   "metadata": {},
   "outputs": [
    {
     "name": "stdout",
     "output_type": "stream",
     "text": [
      "0.92\n",
      "0.24\n",
      "0.12\n"
     ]
    }
   ],
   "source": [
    "print(calc_fwer(top_K_ss))\n",
    "print(calc_fwer(top_K_kshap))\n",
    "print(calc_fwer(top_K_rs))"
   ]
  },
  {
   "cell_type": "code",
   "execution_count": null,
   "metadata": {},
   "outputs": [],
   "source": []
  }
 ],
 "metadata": {
  "interpreter": {
   "hash": "768407c71a286f507fab4bce553d71b5cbd766c247b76eb598ef769225202bc3"
  },
  "kernelspec": {
   "display_name": "Python 3.9.16 ('shap')",
   "language": "python",
   "name": "python3"
  },
  "language_info": {
   "codemirror_mode": {
    "name": "ipython",
    "version": 3
   },
   "file_extension": ".py",
   "mimetype": "text/x-python",
   "name": "python",
   "nbconvert_exporter": "python",
   "pygments_lexer": "ipython3",
   "version": "3.9.16"
  },
  "orig_nbformat": 4
 },
 "nbformat": 4,
 "nbformat_minor": 2
}
