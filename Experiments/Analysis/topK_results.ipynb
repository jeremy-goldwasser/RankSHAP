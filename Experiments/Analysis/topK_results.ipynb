{
 "cells": [
  {
   "cell_type": "code",
   "execution_count": 1,
   "metadata": {},
   "outputs": [],
   "source": [
    "import numpy as np\n",
    "import pickle\n",
    "import pathlib\n",
    "\n",
    "from os.path import join\n",
    "path_to_file = str(pathlib.Path().resolve())\n",
    "dir_path = join(path_to_file, \"../../\")\n",
    "import warnings\n",
    "warnings.filterwarnings('ignore')\n",
    "\n",
    "import sys\n",
    "sys.path.append(join(dir_path, \"HelperFiles\"))\n",
    "from load_data import *\n"
   ]
  },
  {
   "cell_type": "code",
   "execution_count": 2,
   "metadata": {},
   "outputs": [
    {
     "data": {
      "text/plain": [
       "array([0., 0., 0., 0., 0., 0., 0., 0., 0., 0.])"
      ]
     },
     "execution_count": 2,
     "metadata": {},
     "output_type": "execute_result"
    }
   ],
   "source": [
    "method = \"lime\"\n",
    "dataset = \"breast_cancer\"\n",
    "K = 3\n",
    "alpha = 0.1\n",
    "fname = method + \"_\" + dataset + \"_K\" + str(K) + \"_fwers\"\n",
    "with open(join(dir_path, \"Experiments\", \"Results\", \"alpha0.2\", fname), \"rb\") as fp:\n",
    "        fwers_dict = pickle.load(fp)\n",
    "fwers = np.array(list(fwers_dict.values()))\n",
    "np.round(fwers*100)"
   ]
  },
  {
   "cell_type": "markdown",
   "metadata": {},
   "source": [
    "- alpha = 0.1, K=2 & 5\n",
    "    - LIME always 0 FWER except K=5 credit, where it fucks up\n",
    "    - RankSHAP good: not always 0, few 9/10 controlled\n",
    "    - KernelSHAP always 0 FWER on K=2; always fails on K=5\n",
    "- alpha = 0.2, K=3 & 7\n",
    "    - from table: rankshap & lime good, though lime fails twice on K=7\n",
    "    - kernelshap: same as alpha=0.1, except also fails on bank when K=3"
   ]
  },
  {
   "cell_type": "code",
   "execution_count": 22,
   "metadata": {},
   "outputs": [
    {
     "name": "stdout",
     "output_type": "stream",
     "text": [
      "LIME\n",
      "Average FWER (%)\n",
      "[[ 0.  0.  0.  1.  0.]\n",
      " [ 0.  0.  0.  0. nan]]\n",
      "Proportion of FWERs below alpha\n",
      "[[ 1.  1.  1.  1.  1.]\n",
      " [ 1.  1.  1.  1. nan]]\n"
     ]
    }
   ],
   "source": [
    "import os\n",
    "alpha = 0.1\n",
    "Ks = [2,5]\n",
    "# Ks = [3, 7]\n",
    "# alpha = 0.2\n",
    "datasets = [\"census\", \"bank\", \"brca\", \"breast_cancer\", \"credit\"]\n",
    "\n",
    "method = \"lime\"\n",
    "avg_mat = np.empty((len(Ks), len(datasets)))\n",
    "control_mat = np.empty((len(Ks), len(datasets)))\n",
    "for i, K in enumerate(Ks):\n",
    "    for j, dataset in enumerate(datasets):\n",
    "        avg_mat[i, j] = np.nan\n",
    "        control_mat[i, j] = np.nan\n",
    "        fname = method + \"_\" + dataset + \"_K\" + str(K) + \"_fwers\"\n",
    "        path = join(dir_path, \"Experiments\", \"Results\", \"alpha\"+str(alpha), fname)\n",
    "        if os.path.exists(path):\n",
    "                with open(path, \"rb\") as fp:\n",
    "                        fwers_dict = pickle.load(fp)\n",
    "                if len(fwers_dict) >= 1:## == 10: \n",
    "                        fwers = np.array(list(fwers_dict.values()))\n",
    "                        avg_fwer = np.mean(fwers)\n",
    "                        avg_mat[i, j] = np.round(avg_fwer*100)\n",
    "                        prop_fwer_control = np.mean(fwers < alpha)\n",
    "                        control_mat[i, j] = prop_fwer_control\n",
    "\n",
    "print(method.upper())\n",
    "print(\"Average FWER (%)\")\n",
    "print(avg_mat)\n",
    "print(\"Proportion of FWERs below alpha\")\n",
    "print(control_mat)"
   ]
  },
  {
   "cell_type": "code",
   "execution_count": 9,
   "metadata": {},
   "outputs": [
    {
     "name": "stdout",
     "output_type": "stream",
     "text": [
      "census\n",
      "32561 12\n",
      "bank\n",
      "45211 16\n",
      "brca\n",
      "572 20\n",
      "breast_cancer\n",
      "569 30\n",
      "credit\n",
      "1000 20\n"
     ]
    }
   ],
   "source": [
    "for dataset in datasets:\n",
    "    X_train, y_train, X_test, y_test, mapping_dict = load_data(join(dir_path, \"Experiments\", \"Data\"), dataset)\n",
    "    N = y_train.shape[0] + y_test.shape[0]\n",
    "    D = X_train.shape[1] if mapping_dict is None else len(mapping_dict)\n",
    "    print(dataset)\n",
    "    print(N, D)\n"
   ]
  },
  {
   "cell_type": "markdown",
   "metadata": {},
   "source": [
    "Sample size analysis"
   ]
  },
  {
   "cell_type": "code",
   "execution_count": 13,
   "metadata": {},
   "outputs": [
    {
     "name": "stdout",
     "output_type": "stream",
     "text": [
      "10\n",
      "10\n",
      "10\n",
      "10\n",
      "10\n",
      "10\n",
      "10\n",
      "10\n",
      "10\n",
      "10\n",
      "RANKSHAP\n",
      "Median number of samples\n",
      "[[ 2159.  13116.   3000.   1452.5  2000. ]\n",
      " [47576.  42726.5 13817.5 15117.5 40893. ]]\n"
     ]
    }
   ],
   "source": [
    "# Ks = [3, 7]\n",
    "# alpha = 0.2\n",
    "Ks = [2,5]\n",
    "alpha = 0.1\n",
    "datasets = [\"bank\", \"brca\", \"breast_cancer\", \"census\", \"credit\"]\n",
    "\n",
    "method = \"rankshap\"\n",
    "samples_mat = np.empty((len(Ks), len(datasets)))\n",
    "for i, K in enumerate(Ks):\n",
    "    for j, dataset in enumerate(datasets):\n",
    "        samples_mat[i, j] = np.nan\n",
    "        fname = method + \"_\" + dataset + \"_K\" + str(K) + \"_samples\"\n",
    "        path = join(dir_path, \"Experiments\", \"Results\", \"alpha\"+str(alpha), fname)\n",
    "        if os.path.exists(path):\n",
    "                with open(path, \"rb\") as fp:\n",
    "                        samples = pickle.load(fp)\n",
    "                        print(len(samples))\n",
    "                        if len(samples)==10:\n",
    "                            samples_mat[i,j] = np.median(samples)\n",
    "\n",
    "print(method.upper())\n",
    "print(\"Median number of samples\")\n",
    "print(samples_mat)\n"
   ]
  },
  {
   "cell_type": "code",
   "execution_count": null,
   "metadata": {},
   "outputs": [],
   "source": []
  },
  {
   "cell_type": "code",
   "execution_count": null,
   "metadata": {},
   "outputs": [],
   "source": []
  }
 ],
 "metadata": {
  "interpreter": {
   "hash": "768407c71a286f507fab4bce553d71b5cbd766c247b76eb598ef769225202bc3"
  },
  "kernelspec": {
   "display_name": "Python 3.9.16 ('shap')",
   "language": "python",
   "name": "python3"
  },
  "language_info": {
   "codemirror_mode": {
    "name": "ipython",
    "version": 3
   },
   "file_extension": ".py",
   "mimetype": "text/x-python",
   "name": "python",
   "nbconvert_exporter": "python",
   "pygments_lexer": "ipython3",
   "version": "3.9.16"
  },
  "orig_nbformat": 4
 },
 "nbformat": 4,
 "nbformat_minor": 2
}
