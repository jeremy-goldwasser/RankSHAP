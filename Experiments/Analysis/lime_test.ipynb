{
 "cells": [
  {
   "cell_type": "code",
   "execution_count": 29,
   "metadata": {},
   "outputs": [],
   "source": [
    "import numpy as np\n",
    "import sys\n",
    "import pickle\n",
    "import pathlib\n",
    "from sklearn.ensemble import RandomForestClassifier\n",
    "from sklearn.datasets import load_breast_cancer\n",
    "from sklearn.model_selection import train_test_split\n",
    "\n",
    "from slime import lime_tabular\n",
    "\n",
    "from os.path import join\n",
    "path_to_file = str(pathlib.Path().resolve())\n",
    "dir_path = join(path_to_file, \"../../\")\n",
    "sys.path.append(join(dir_path, \"HelperFiles\"))\n",
    "from helper import *\n",
    "from load_data import *\n",
    "\n",
    "import warnings\n",
    "warnings.filterwarnings('ignore')\n",
    "\n",
    "# dataset = \"breast_cancer\"\n",
    "dataset = \"brca\"\n",
    "\n",
    "data_path = join(dir_path, \"Experiments\", \"Data\")\n",
    "X_train, y_train, X_test, y_test, _ = load_data(data_path, dataset)\n",
    "# import shap\n",
    "# X_train, y_train = shap.datasets.adult(display=True)\n",
    "# X_test, y_test = X_train, y_train\n"
   ]
  },
  {
   "cell_type": "code",
   "execution_count": 30,
   "metadata": {},
   "outputs": [],
   "source": [
    "# rf = RandomForestClassifier()\n",
    "# rf.fit(X_train, y_train)\n",
    "# model = rf.predict_proba\n",
    "from train_models import *\n",
    "model = train_rf(X_train, y_train, lime=True)\n",
    "# from sklearn.neural_network import MLPClassifier\n",
    "# clf = MLPClassifier(random_state=1, hidden_layer_sizes=(50,)).fit(X_train, y_train)\n",
    "# model = clf.predict_proba\n",
    "\n",
    "# print(np.mean((model(X_test)[:,1] > 0.5)==y_test))\n",
    "# print(np.mean(y_test))\n",
    "\n"
   ]
  },
  {
   "cell_type": "code",
   "execution_count": 31,
   "metadata": {},
   "outputs": [
    {
     "name": "stdout",
     "output_type": "stream",
     "text": [
      "[18, 4]\n"
     ]
    }
   ],
   "source": [
    "explainer = lime_tabular.LimeTabularExplainer(X_train, \n",
    "                                              discretize_continuous = False, \n",
    "                                              feature_selection = \"lasso_path\", \n",
    "                                              sample_around_instance = True)\n",
    "K = 2\n",
    "alpha_adj = 0.2/K/2\n",
    "\n",
    "x_idx = 0\n",
    "xloc = X_test[x_idx]\n",
    "exp = explainer.slime(xloc, model, num_features = K, \n",
    "                            num_samples = 1000, n_max = 200000, \n",
    "                            alpha = alpha_adj, tol=1e-4, return_none=True)\n",
    "if exp is not None:\n",
    "    tuples = exp.local_exp[1]\n",
    "    feats = [tuples[i][0] for i in range(K)]\n",
    "    print(feats)\n",
    "else:\n",
    "    print(\"None\")"
   ]
  },
  {
   "cell_type": "code",
   "execution_count": null,
   "metadata": {},
   "outputs": [],
   "source": []
  }
 ],
 "metadata": {
  "interpreter": {
   "hash": "768407c71a286f507fab4bce553d71b5cbd766c247b76eb598ef769225202bc3"
  },
  "kernelspec": {
   "display_name": "Python 3.9.16 ('shap')",
   "language": "python",
   "name": "python3"
  },
  "language_info": {
   "codemirror_mode": {
    "name": "ipython",
    "version": 3
   },
   "file_extension": ".py",
   "mimetype": "text/x-python",
   "name": "python",
   "nbconvert_exporter": "python",
   "pygments_lexer": "ipython3",
   "version": "3.9.16"
  },
  "orig_nbformat": 4
 },
 "nbformat": 4,
 "nbformat_minor": 2
}
