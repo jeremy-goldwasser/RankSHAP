{
 "cells": [
  {
   "cell_type": "code",
   "execution_count": 15,
   "metadata": {},
   "outputs": [],
   "source": [
    "import numpy as np\n",
    "import matplotlib.pyplot as plt\n",
    "from sklearn.linear_model import LogisticRegression\n",
    "from sklearn.datasets import load_breast_cancer\n",
    "\n",
    "import sys\n",
    "import pathlib\n",
    "from os.path import join\n",
    "path_to_file = str(pathlib.Path().resolve())\n",
    "dir_path = join(path_to_file, \"../../\")\n",
    "sys.path.append(join(dir_path, \"HelperFiles\"))\n",
    "from helper import *\n",
    "from load_data import *\n",
    "from train_models import *\n",
    "from rankshap import *\n",
    "from kernelshap import *\n",
    "import warnings\n",
    "warnings.filterwarnings('ignore')\n",
    "import shap\n",
    "data_path = join(dir_path, \"Experiments\", \"Data\")"
   ]
  },
  {
   "cell_type": "code",
   "execution_count": 16,
   "metadata": {},
   "outputs": [
    {
     "name": "stdout",
     "output_type": "stream",
     "text": [
      "171 0.631578947368421\n",
      "94% accuracy\n"
     ]
    }
   ],
   "source": [
    "X_train, y_train, X_test, y_test, mapping_dict = load_data(data_path, \"breast_cancer\")\n",
    "d = X_train.shape[1]\n",
    "print(len(y_test), np.mean(y_test))\n",
    "model = train_rf(X_train, y_train)\n",
    "\n",
    "y_preds = (model(X_test) > 0.5).astype(\"int\")\n",
    "print(\"{}% accuracy\".format(round(np.mean(y_preds == y_test)*100)))"
   ]
  },
  {
   "cell_type": "markdown",
   "metadata": {},
   "source": [
    "## Run many times\n",
    "### SHAP"
   ]
  },
  {
   "cell_type": "code",
   "execution_count": 17,
   "metadata": {},
   "outputs": [
    {
     "name": "stdout",
     "output_type": "stream",
     "text": [
      "5\n",
      "10\n",
      "15\n",
      "20\n",
      "25\n"
     ]
    }
   ],
   "source": [
    "np.random.seed(1)\n",
    "x_idx = 1\n",
    "# xloc = X_test[x_idx]\n",
    "xloc = X_test[x_idx:(x_idx+1)]\n",
    "N_runs = 25\n",
    "n_per_feat = 250\n",
    "shap_vals_all = []\n",
    "kmeans = shap.kmeans(X_train, 10)\n",
    "explainer = shap.SamplingExplainer(model, kmeans)\n",
    "for i in range(N_runs):\n",
    "    # shap_vals = shapley_sampling(model, X_train, xloc, n_perms=250, \n",
    "    #                     n_samples_per_perm=1, mapping_dict=mapping_dict)\n",
    "    shap_vals = explainer.shap_values(xloc, nsamples=n_per_feat*d, silent=True)[0]\n",
    "    shap_vals_all.append(shap_vals)\n",
    "    if (i+1)%5==0:print(i+1)\n"
   ]
  },
  {
   "cell_type": "code",
   "execution_count": 18,
   "metadata": {},
   "outputs": [
    {
     "name": "stdout",
     "output_type": "stream",
     "text": [
      "5\n",
      "10\n",
      "15\n",
      "20\n",
      "25\n"
     ]
    }
   ],
   "source": [
    "np.random.seed(1)\n",
    "kshap_vals_all = []\n",
    "explainer = shap.KernelExplainer(model, kmeans)\n",
    "for i in range(N_runs):\n",
    "    kshap_values = explainer.shap_values(xloc, nsamples=n_per_feat*d, silent=True)[0]\n",
    "    # kshap_values = kernelshap(model, X_train, xloc, n_perms=250*d, n_samples_per_perm=1, mapping_dict=mapping_dict)\n",
    "    kshap_vals_all.append(kshap_values)\n",
    "    if (i+1)%5==0:print(i+1)\n"
   ]
  },
  {
   "cell_type": "code",
   "execution_count": 19,
   "metadata": {},
   "outputs": [
    {
     "name": "stdout",
     "output_type": "stream",
     "text": [
      "22\n",
      "17\n",
      "14\n",
      "14\n",
      "16\n",
      "[1.0, 0.88, 0.48, 0.4, 0.4]\n",
      "22\n",
      "13\n",
      "2\n",
      "1\n",
      "0\n",
      "[1.0, 1.0, 1.0, 0.8, 0.76]\n",
      "0.8\n",
      "0.24\n"
     ]
    }
   ],
   "source": [
    "order_ss = [get_ranking(shap_values, abs=False) for shap_values in shap_vals_all]\n",
    "order_kshap = [get_ranking(kshap_values, abs=False) for kshap_values in kshap_vals_all]\n",
    "\n",
    "K = 5\n",
    "# cols_ss = []\n",
    "freqs_ss = []\n",
    "top_K_ss = np.array(order_ss)[:,:K]\n",
    "for k in range(K):\n",
    "    most_common = np.argmax(np.bincount(top_K_ss[:,k]))\n",
    "    # cols_ss.append(colnames[most_common])\n",
    "    print(most_common) # Verify they're unique\n",
    "    freqs_ss.append(np.mean(top_K_ss[:,k]==most_common))\n",
    "print(freqs_ss)\n",
    "\n",
    "# cols_kshap = []\n",
    "freqs_kshap = []\n",
    "top_K_kshap = np.array(order_kshap)[:,:K]\n",
    "for k in range(K):\n",
    "    most_common = np.argmax(np.bincount(top_K_kshap[:,k]))\n",
    "    print(most_common) # Verify they're unique\n",
    "    freqs_kshap.append(np.mean(top_K_kshap[:,k]==most_common))\n",
    "print(freqs_kshap)\n",
    "\n",
    "print(calc_fwer(top_K_ss))\n",
    "print(calc_fwer(top_K_kshap))\n"
   ]
  },
  {
   "cell_type": "code",
   "execution_count": 20,
   "metadata": {},
   "outputs": [
    {
     "name": "stdout",
     "output_type": "stream",
     "text": [
      "5\n",
      "10\n",
      "15\n",
      "20\n",
      "25\n"
     ]
    }
   ],
   "source": [
    "np.random.seed(1)\n",
    "xloc = X_test[x_idx:(x_idx+1)]\n",
    "rankshap_vals_all = []\n",
    "ct = 0\n",
    "while len(rankshap_vals_all) < N_runs:\n",
    "    rankshap_vals, _, _, converged = rankshap(model, X_train, xloc, K=5, alpha=0.2, abs=False, n_samples_per_perm=30, max_n_perms=n_per_feat)\n",
    "    rankshap_vals_all.append(rankshap_vals)\n",
    "    # if converged:\n",
    "    #     rankshap_vals_all.append(rankshap_vals)\n",
    "    ct += 1\n",
    "    if ct%5==0:print(ct)#, len(rankshap_vals_all))\n"
   ]
  },
  {
   "cell_type": "code",
   "execution_count": 21,
   "metadata": {},
   "outputs": [
    {
     "name": "stdout",
     "output_type": "stream",
     "text": [
      "22\n",
      "13\n",
      "2\n",
      "17\n",
      "0\n",
      "[1.0, 1.0, 1.0, 0.96, 0.84]\n"
     ]
    }
   ],
   "source": [
    "order_rs = [get_ranking(shap_values, abs=False) for shap_values in rankshap_vals_all]\n",
    "\n",
    "K = 5\n",
    "# cols_rs = []\n",
    "freqs_rs = []\n",
    "top_K_rs = np.array(order_rs)[:,:K]\n",
    "for k in range(K):\n",
    "    most_common = np.argmax(np.bincount(top_K_rs[:,k]))\n",
    "    # cols_rs.append(colnames[most_common])\n",
    "    print(most_common) # Verify they're unique\n",
    "    freqs_rs.append(np.mean(top_K_rs[:,k]==most_common))\n",
    "print(freqs_rs)"
   ]
  },
  {
   "cell_type": "markdown",
   "metadata": {},
   "source": [
    "## LIME"
   ]
  },
  {
   "cell_type": "code",
   "execution_count": 22,
   "metadata": {},
   "outputs": [
    {
     "name": "stdout",
     "output_type": "stream",
     "text": [
      "0.64\n"
     ]
    }
   ],
   "source": [
    "x_idx = 1\n",
    "K = 5\n",
    "xloc = X_test[x_idx]\n",
    "top_K_lime = []\n",
    "from slime import lime_tabular\n",
    "model = train_model(X_train, y_train, \"rf\", lime=True)\n",
    "explainer = lime_tabular.LimeTabularExplainer(X_train, \n",
    "                                              discretize_continuous = False, \n",
    "                                              feature_selection = \"lasso_path\", \n",
    "                                              sample_around_instance = True)\n",
    "for _ in range(N_runs):\n",
    "    exp = explainer.explain_instance(xloc, model, num_features = K, num_samples = 1000) # Default\n",
    "    tuples = exp.local_exp[1]\n",
    "    feats = [tuples[i][0] for i in range(5)]\n",
    "    top_K_lime.append(feats)\n",
    "print(calc_fwer(top_K_lime))\n"
   ]
  },
  {
   "cell_type": "markdown",
   "metadata": {},
   "source": [
    "### SLIME"
   ]
  },
  {
   "cell_type": "code",
   "execution_count": 26,
   "metadata": {},
   "outputs": [
    {
     "name": "stdout",
     "output_type": "stream",
     "text": [
      "0.0\n"
     ]
    }
   ],
   "source": [
    "top_K_slime = []\n",
    "while len(top_K_slime) < N_runs:\n",
    "    exp = explainer.slime(xloc, model, num_features = K, \n",
    "                                num_samples = 1000, n_max = 50000, #100000\n",
    "                                alpha = 0.2/K/2, tol=1e-4, return_none=True)\n",
    "    if exp is not None:\n",
    "        tuples = exp.local_exp[1]\n",
    "        feats = [tuples[i][0] for i in range(K)]\n",
    "        top_K_slime.append(feats)\n",
    "print(calc_fwer(top_K_slime))"
   ]
  },
  {
   "cell_type": "code",
   "execution_count": 27,
   "metadata": {},
   "outputs": [
    {
     "name": "stdout",
     "output_type": "stream",
     "text": [
      "22\n",
      "23\n",
      "20\n",
      "7\n",
      "27\n",
      "[1.0, 1.0, 0.52, 0.44, 0.64]\n",
      "22\n",
      "23\n",
      "20\n",
      "7\n",
      "27\n",
      "[1.0, 1.0, 1.0, 1.0, 1.0]\n"
     ]
    }
   ],
   "source": [
    "# fname = \"lime_vs_slime\"\n",
    "# with open(join(dir_path, \"Experiments\", \"Results\", \"alpha0.2\", fname), \"rb\") as fp:\n",
    "#         top_Ks = pickle.load(fp)\n",
    "# top_K_lime, top_K_slime = np.array(top_Ks[0]), np.array(top_Ks[1])\n",
    "top_K_lime, top_K_slime = np.array(top_K_lime), np.array(top_K_slime)\n",
    "\n",
    "###### Get frequencies of top-5 lime and S-LIME features\n",
    "cols_lime = []\n",
    "freqs_lime = []\n",
    "K = 5\n",
    "breast_cancer = load_breast_cancer()\n",
    "colnames = breast_cancer.feature_names\n",
    "for k in range(K):\n",
    "    most_common = np.argmax(np.bincount(top_K_lime[:,k]))\n",
    "    cols_lime.append(colnames[most_common])\n",
    "    print(most_common) # Verify they're unique\n",
    "    freqs_lime.append(np.mean(top_K_lime[:,k]==most_common))\n",
    "print(freqs_lime)\n",
    "\n",
    "cols_slime = []\n",
    "freqs_slime = []\n",
    "for k in range(K):\n",
    "    most_common = np.argmax(np.bincount(top_K_slime[:,k]))\n",
    "    cols_slime.append(colnames[most_common])\n",
    "    print(most_common) # Verify they're unique\n",
    "    freqs_slime.append(np.mean(top_K_slime[:,k]==most_common))\n",
    "\n",
    "print(freqs_slime)"
   ]
  },
  {
   "cell_type": "markdown",
   "metadata": {},
   "source": [
    "## Visualize"
   ]
  },
  {
   "cell_type": "code",
   "execution_count": 47,
   "metadata": {},
   "outputs": [
    {
     "data": {
      "image/png": "[encoded data removed]",
      "text/plain": [
       "<Figure size 1000x500 with 1 Axes>"
      ]
     },
     "metadata": {},
     "output_type": "display_data"
    }
   ],
   "source": [
    "plt.figure(figsize=(10,5))\n",
    "width = 0.1\n",
    "\n",
    "# Plotting\n",
    "import matplotlib as mpl\n",
    "mpl.rcParams['hatch.linewidth'] = 0.1  # previous pdf hatch linewidth\n",
    "\n",
    "onetoK = np.arange(K)+1\n",
    "plt.bar(onetoK-.225, freqs_rs , width, label='RankSHAP', hatch=\".\")\n",
    "plt.bar(onetoK-.125, freqs_kshap , width, label='KernelSHAP')\n",
    "plt.bar(onetoK-.025, freqs_ss, width, label='Shapley Sampling')\n",
    "\n",
    "plt.bar(onetoK+.125, freqs_slime , width, label='Adj. S-LIME', hatch=\".\")\n",
    "plt.bar(onetoK+.225, freqs_lime, width, label='LIME')\n",
    "\n",
    "plt.xlabel('\\nFeature Ranking', size=13)\n",
    "plt.ylabel('Selection Frequency', size=13)\n",
    "plt.title('Frequency of Top-K Feature Rankings', size=15)\n",
    "\n",
    "order = [\"1st\", \"2nd\", \"3rd\", \"4th\", \"5th\"]\n",
    "# order2 = [order[i] + '\\n' + cols_slime[i].title() for i in range(K)]\n",
    "plt.xticks(onetoK + width / 2, order)\n",
    "plt.axhline(0.8, color=\"black\")\n",
    "# Finding the best position for legends and putting it\n",
    "plt.legend(loc='lower left', prop={'size': 12}, handleheight=1.3)\n",
    "plt.tight_layout()\n",
    "plt.savefig(join(dir_path, \"Experiments\", \"Figures\", \"instability.png\"), bbox_inches=\"tight\")\n",
    "plt.show()\n"
   ]
  },
  {
   "cell_type": "code",
   "execution_count": null,
   "metadata": {},
   "outputs": [],
   "source": []
  }
 ],
 "metadata": {
  "interpreter": {
   "hash": "768407c71a286f507fab4bce553d71b5cbd766c247b76eb598ef769225202bc3"
  },
  "kernelspec": {
   "display_name": "Python 3.9.16 ('shap')",
   "language": "python",
   "name": "python3"
  },
  "language_info": {
   "codemirror_mode": {
    "name": "ipython",
    "version": 3
   },
   "file_extension": ".py",
   "mimetype": "text/x-python",
   "name": "python",
   "nbconvert_exporter": "python",
   "pygments_lexer": "ipython3",
   "version": "3.9.16"
  },
  "orig_nbformat": 4
 },
 "nbformat": 4,
 "nbformat_minor": 2
}
