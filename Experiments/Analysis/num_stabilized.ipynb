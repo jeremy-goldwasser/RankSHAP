{
 "cells": [
  {
   "cell_type": "code",
   "execution_count": 1,
   "metadata": {},
   "outputs": [
    {
     "name": "stderr",
     "output_type": "stream",
     "text": [
      "/Users/jeremygoldwasser/opt/anaconda3/envs/shap/lib/python3.9/site-packages/tqdm/auto.py:21: TqdmWarning: IProgress not found. Please update jupyter and ipywidgets. See https://ipywidgets.readthedocs.io/en/stable/user_install.html\n",
      "  from .autonotebook import tqdm as notebook_tqdm\n"
     ]
    }
   ],
   "source": [
    "import numpy as np\n",
    "import matplotlib.pyplot as plt\n",
    "import matplotlib.patches as mpatches\n",
    "import pathlib\n",
    "import sys\n",
    "from os.path import join\n",
    "path_to_file = str(pathlib.Path().resolve())\n",
    "dir_path = join(path_to_file, \"../../\")\n",
    "sys.path.append(join(dir_path, \"HelperFiles\"))\n",
    "from helper import *\n",
    "from train_models import *\n",
    "from load_data import *\n",
    "from rankshap import *\n",
    "from sprtshap import *\n",
    "data_path = join(dir_path, \"Experiments\", \"Data\")"
   ]
  },
  {
   "cell_type": "code",
   "execution_count": 11,
   "metadata": {},
   "outputs": [
    {
     "name": "stdout",
     "output_type": "stream",
     "text": [
      "Class imbalance: 71%\n",
      "72% accuracy\n",
      "750 20\n"
     ]
    }
   ],
   "source": [
    "dataset = \"credit\" \n",
    "X_train, y_train, X_test, y_test, mapping_dict = load_data(data_path, dataset)\n",
    "model = train_model(X_train, y_train, \"nn\", lime=False)\n",
    "\n",
    "print(\"Class imbalance: {}%\".format(round(100*(max(np.mean(y_test), 1-np.mean(y_test))))))\n",
    "Y_preds = (model(X_test) > 0.5).astype(\"int\")\n",
    "print(\"{}% accuracy\".format(round(np.mean(Y_preds == y_test)*100)))\n",
    "d = len(mapping_dict) if mapping_dict is not None else X_train.shape[1]\n",
    "print(X_train.shape[0], d)\n"
   ]
  },
  {
   "cell_type": "markdown",
   "metadata": {},
   "source": [
    "### Run many times"
   ]
  },
  {
   "cell_type": "code",
   "execution_count": 15,
   "metadata": {},
   "outputs": [
    {
     "name": "stdout",
     "output_type": "stream",
     "text": [
      "104\n",
      "250\n"
     ]
    }
   ],
   "source": [
    "alphas = [0.05, 0.1, 0.2]\n",
    "N_samples = 2*d + 2048\n",
    "print(N_samples//d)\n",
    "N_pts = min(250, X_test.shape[0])\n",
    "print(N_pts)\n",
    "N_verified = []\n",
    "for x_idx in range(N_pts):\n",
    "    xloc = X_test[x_idx:(x_idx+1)]\n",
    "    # shap_vals, n_verified = shapley_sampling(model, X_train, xloc, n_perms=N_samples//d, \n",
    "    #         n_samples_per_perm=10, mapping_dict=mapping_dict, \n",
    "    #         alphas=alphas, abs=True)\n",
    "    shap_vals, n_verified = kernelshap(model, X_train, xloc, n_perms=N_samples, n_samples_per_perm=10, mapping_dict=mapping_dict,\n",
    "            alphas = alphas, abs=True)\n",
    "    N_verified.append(n_verified)\n",
    "N_verified = np.array(N_verified)\n"
   ]
  },
  {
   "cell_type": "markdown",
   "metadata": {},
   "source": [
    "### Visualize"
   ]
  },
  {
   "cell_type": "code",
   "execution_count": 30,
   "metadata": {},
   "outputs": [
    {
     "data": {
      "image/png": "[encoded data removed]",
      "text/plain": [
       "<Figure size 700x250 with 1 Axes>"
      ]
     },
     "metadata": {},
     "output_type": "display_data"
    }
   ],
   "source": [
    "offset = 0.2\n",
    "plt.figure(figsize=(7,2.5))\n",
    "\n",
    "colors = [\"green\", \"navy\", \"darkorange\"]\n",
    "offsets = np.array([offset, 0, -offset])\n",
    "for i in range(3):\n",
    "    c = colors[i]\n",
    "    off = offsets[i]\n",
    "    plt.boxplot(N_verified[:, i].T, positions=[off], notch=True, patch_artist=True,\n",
    "            boxprops=dict(facecolor=c, color=c),\n",
    "            capprops=dict(color=c),\n",
    "            whiskerprops=dict(color=c),\n",
    "            flierprops=dict(color=c, markeredgecolor=c, marker='x'),\n",
    "            medianprops=dict(color=c), \n",
    "            vert=False\n",
    "            )\n",
    "\n",
    "cols = [\"Alpha=\"+str(alpha) for alpha in alphas]\n",
    "patches = []\n",
    "for i in range(3):\n",
    "    patches.append(mpatches.Patch(color=colors[i], label=cols[i]))\n",
    "plt.legend(handles=patches, fontsize='large')\n",
    "plt.gca().yaxis.set_major_locator(plt.NullLocator())\n",
    "plt.title(\"Number of Verified Ranks, SPRT-SHAP\")\n",
    "plt.savefig(join(dir_path, \"Experiments\", \"Figures\", \"num_stable_ranks_kshap.png\"), bbox_inches=\"tight\")\n",
    "plt.show()\n"
   ]
  },
  {
   "cell_type": "code",
   "execution_count": null,
   "metadata": {},
   "outputs": [],
   "source": []
  },
  {
   "cell_type": "code",
   "execution_count": null,
   "metadata": {},
   "outputs": [],
   "source": []
  }
 ],
 "metadata": {
  "interpreter": {
   "hash": "768407c71a286f507fab4bce553d71b5cbd766c247b76eb598ef769225202bc3"
  },
  "kernelspec": {
   "display_name": "Python 3.9.16 ('shap')",
   "language": "python",
   "name": "python3"
  },
  "language_info": {
   "codemirror_mode": {
    "name": "ipython",
    "version": 3
   },
   "file_extension": ".py",
   "mimetype": "text/x-python",
   "name": "python",
   "nbconvert_exporter": "python",
   "pygments_lexer": "ipython3",
   "version": "3.9.16"
  },
  "orig_nbformat": 4
 },
 "nbformat": 4,
 "nbformat_minor": 2
}
